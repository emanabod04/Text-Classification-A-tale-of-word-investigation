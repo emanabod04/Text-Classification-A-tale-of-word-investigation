{
 "cells": [
  {
   "cell_type": "code",
   "execution_count": 1,
   "id": "fa5c2e3e",
   "metadata": {},
   "outputs": [
    {
     "name": "stderr",
     "output_type": "stream",
     "text": [
      "/home/ahmed/anaconda3/lib/python3.9/site-packages/scipy/sparse/sparsetools.py:21: DeprecationWarning: `scipy.sparse.sparsetools` is deprecated!\n",
      "scipy.sparse.sparsetools is a private module for scipy.sparse, and should not be used.\n",
      "  _deprecated()\n",
      "[nltk_data] Downloading package stopwords to /home/ahmed/nltk_data...\n",
      "[nltk_data]   Package stopwords is already up-to-date!\n",
      "[nltk_data] Downloading package wordnet to /home/ahmed/nltk_data...\n",
      "[nltk_data]   Package wordnet is already up-to-date!\n",
      "[nltk_data] Downloading package punkt to /home/ahmed/nltk_data...\n",
      "[nltk_data]   Package punkt is already up-to-date!\n",
      "[nltk_data] Downloading package omw-1.4 to /home/ahmed/nltk_data...\n",
      "[nltk_data]   Package omw-1.4 is already up-to-date!\n"
     ]
    }
   ],
   "source": [
    "import urllib.request\n",
    "import random\n",
    "import re\n",
    "import string\n",
    "from warnings import filterwarnings\n",
    "filterwarnings('ignore')\n",
    "import numpy as np\n",
    "import pandas as pd\n",
    "\n",
    "from sklearn.feature_extraction.text import TfidfVectorizer\n",
    "from sklearn.model_selection import ShuffleSplit, KFold, cross_val_score\n",
    "from sklearn import preprocessing\n",
    "from sklearn.preprocessing import label_binarize, LabelEncoder\n",
    "le = LabelEncoder()\n",
    "from sklearn.model_selection import train_test_split, cross_val_predict\n",
    "from sklearn.feature_extraction.text import CountVectorizer, TfidfTransformer\n",
    "from sklearn.metrics import accuracy_score, recall_score, precision_score, f1_score\n",
    "\n",
    "from sklearn.svm import SVC, LinearSVC\n",
    "from sklearn.tree import DecisionTreeClassifier\n",
    "from sklearn.neighbors import KNeighborsClassifier\n",
    "from sklearn.multiclass import OneVsRestClassifier\n",
    "\n",
    "import matplotlib.pyplot as plt\n",
    "from sklearn.metrics import confusion_matrix, ConfusionMatrixDisplay, classification_report\n",
    "\n",
    "from pprint import pprint\n",
    "import pyLDAvis.gensim_models as gensimvis\n",
    "import gensim.corpora as corpora\n",
    "import gensim\n",
    "import pyLDAvis\n",
    "\n",
    "import nltk as nl\n",
    "from nltk.tokenize import word_tokenize\n",
    "from nltk.corpus import stopwords\n",
    "from nltk.corpus import gutenberg #corpus here to define as a semantically oriented dictionary of gutenberg\n",
    "nl.download('stopwords')\n",
    "nl.download('wordnet')\n",
    "nl.download('punkt')\n",
    "nl.download('omw-1.4')\n",
    "stop_words=set(stopwords.words(\"english\"))"
   ]
  },
  {
   "cell_type": "markdown",
   "id": "1f852781",
   "metadata": {},
   "source": [
    "### Helper Functions"
   ]
  },
  {
   "cell_type": "code",
   "execution_count": 2,
   "id": "0d916bbf",
   "metadata": {},
   "outputs": [],
   "source": [
    "def OneHotEncoding(y_train, y_test):\n",
    "    y_train_encoded = label_binarize(y_train, classes=[0, 1, 2, 3, 4])\n",
    "    y_test_encoded = label_binarize(y_test, classes=[0, 1, 2, 3, 4])\n",
    "    return y_train_encoded, y_test_encoded\n",
    "    \n",
    "def EncodeLabel(y):\n",
    "    le.fit(y)\n",
    "    y_encoded =le.transform(y)\n",
    "    \n",
    "    return y_encoded\n",
    "\n",
    "def getAccuracy (model, x, y):\n",
    "    return accuracy_score(x,y)* 100\n",
    "\n",
    "def classify(X_train, y_train, X_test, clf):\n",
    "    clf.fit(X_train, y_train)\n",
    "    predicted = clf.predict(X_test)\n",
    "    return clf, predicted\n",
    "\n",
    "\n",
    "def classify_train(X_train, y_train, clf):\n",
    "    clf.fit(X_train, y_train)\n",
    "    predicted = clf.predict(X_train)\n",
    "    return clf, predicted\n",
    "\n",
    "def ModelAssemesment(y_test, prediction, classifier):\n",
    "    '''\n",
    "        1- get accuracy of a classifier.\n",
    "        2- plot confusion matrix.\n",
    "    '''\n",
    "    \n",
    "    cm = confusion_matrix(y_test, prediction)\n",
    "    cmDisp = ConfusionMatrixDisplay(cm, display_labels=classifier.classes_) \n",
    "    cmDisp.plot()\n",
    "    plt.show()\n",
    "    return accuracy_score(y_test, prediction)\n",
    "\n",
    "\n",
    "def split_train_tst(df: pd.DataFrame):\n",
    "    return train_test_split(df.iloc[:, 0], df.iloc[:, 1])\n",
    "\n",
    "\n",
    "def clfer(X_train,Y_train,X_test,Y_test,clf):\n",
    "    model= clf\n",
    "    model.fit(X_train, Y_train)\n",
    "    preds = model.predict(X_test)\n",
    "    print('ngram ',clf,' Accuracy:',model.score(X_test,Y_test)*100)\n",
    "    print('ngram ',clf,' Accuracy:',getAccuracy(model,X_test,Y_test))\n",
    "    print(confusion_matrix(Y_test, preds))\n",
    "    print(classification_report(Y_test, preds))\n",
    "    plot_confusion_matrix(model, X_test, Y_test)\n",
    "    \n",
    "\n",
    "def cross_validation(clf, num_of_ShuffleSplit, num_of_KFold ,test_size, X_train, y_train ):\n",
    "    print(\"Accuracy using cross validation with 10-Fold\")\n",
    "    kf = KFold(n_splits=num_of_KFold,shuffle=True,random_state=0)\n",
    "    scores = cross_val_score(clf, X_train, y_train, cv=kf)\n",
    "    i=0\n",
    "    for score in scores:\n",
    "        i+=1\n",
    "        print(\" Iteration: %r Accuracy: %0.2f \"%((i),score))\n",
    "    print(\"Total accuracy: %0.2f (+/- %0.2f)\" % (scores.mean(), scores.std() * 2))\n",
    "    \n",
    "    \n",
    "def plot_learning_curve(estimator, title, X, y, ylim=None, cv=None, n_jobs=1, train_sizes=np.linspace(.1, 1.0, 5)):\n",
    "    plt.figure()\n",
    "    plt.title(title)\n",
    "    if ylim is not None:\n",
    "        plt.ylim(*ylim)\n",
    "    plt.xlabel(\"Training examples\")\n",
    "    plt.ylabel(\"Score\")\n",
    "    train_sizes, train_scores, test_scores = learning_curve(\n",
    "        estimator, X, y, cv=cv, n_jobs=n_jobs, train_sizes=train_sizes)\n",
    "    train_scores_mean = np.mean(train_scores, axis=1)\n",
    "    train_scores_std = np.std(train_scores, axis=1)\n",
    "    test_scores_mean = np.mean(test_scores, axis=1)\n",
    "    test_scores_std = np.std(test_scores, axis=1)\n",
    "    plt.grid()\n",
    "\n",
    "    plt.fill_between(train_sizes, train_scores_mean - train_scores_std,\n",
    "                     train_scores_mean + train_scores_std, alpha=0.1,\n",
    "                     color=\"r\")\n",
    "    plt.fill_between(train_sizes, test_scores_mean - test_scores_std,\n",
    "                     test_scores_mean + test_scores_std, alpha=0.1, color=\"g\")\n",
    "    plt.plot(train_sizes, train_scores_mean, 'o-', color=\"r\",\n",
    "             label=\"Training score\")\n",
    "    plt.plot(train_sizes, test_scores_mean, 'o-', color=\"g\",\n",
    "             label=\"Cross-validation score\")\n",
    "\n",
    "    plt.legend(loc=\"best\")\n",
    "    return plt\n",
    "#cross_validation(clf_ngr_svm, 5, 10 ,0.2, X_train_ngr, y_train_ngr)\n",
    "# y_encoded = EncodeLabel(df['label'])"
   ]
  },
  {
   "cell_type": "markdown",
   "id": "e4b68c55",
   "metadata": {},
   "source": [
    "## Getting Data"
   ]
  },
  {
   "cell_type": "code",
   "execution_count": 3,
   "id": "21a66fd9",
   "metadata": {},
   "outputs": [],
   "source": [
    "books= [[\"https://www.gutenberg.org/files/15663/15663-0.txt\",\"George Rawlinson\"],\n",
    "           [\"https://www.gutenberg.org/cache/epub/3284/pg3284.txt\",\"John Hanning\"],\n",
    "           [\"https://www.gutenberg.org/files/6267/6267-0.txt\",\"Gilbert Parker\"],\n",
    "           [\"https://www.gutenberg.org/cache/epub/21986/pg21986.txt\",\"George Alfred\"],\n",
    "           [\"https://www.gutenberg.org/files/5449/5449-0.txt\",\"Georg Ebers\"]]\n"
   ]
  },
  {
   "cell_type": "code",
   "execution_count": 4,
   "id": "cd6d75d6",
   "metadata": {},
   "outputs": [],
   "source": [
    "def get_books_before_filter(books:list) -> list:\n",
    "    '''\n",
    "        returns a list of strings, where every string is the book's content.\n",
    "    '''\n",
    "    lst_books_txt = []\n",
    "    for link in books:\n",
    "        with urllib.request.urlopen(link[0]) as book_file:\n",
    "            raw = book_file.read().decode('utf-8')\n",
    "            lst_books_txt.append(raw)\n",
    "    return lst_books_txt"
   ]
  },
  {
   "cell_type": "markdown",
   "id": "26b569a6",
   "metadata": {},
   "source": [
    "## Exploring Data"
   ]
  },
  {
   "cell_type": "code",
   "execution_count": 5,
   "id": "1acb3528",
   "metadata": {},
   "outputs": [],
   "source": [
    "def plot_book_paragraph_length():\n",
    "    fig, axs = plt.subplots(5,figsize=(15,15))\n",
    "    fig.suptitle('Length')  \n",
    "    for index,book in enumerate(get_books_before_filter(books)):\n",
    "        splited_book = re.split(r\"\\r\\n\",book)\n",
    "        lengths = [len(paragraph) for paragraph in splited_book]\n",
    "        axs[index].hist(lengths, density=True, bins=30)  # density=False would make counts\n",
    "        axs[index].set_title(''.join([\"# Book\",str(len(book))]))\n",
    "        #ax.xlabel(\"Paragraphs' Length\")\n",
    "  "
   ]
  },
  {
   "cell_type": "code",
   "execution_count": 6,
   "id": "c495b812",
   "metadata": {},
   "outputs": [
    {
     "data": {
      "image/png": "[encoded data removed]",
      "text/plain": [
       "<Figure size 1080x1080 with 5 Axes>"
      ]
     },
     "metadata": {
      "needs_background": "light"
     },
     "output_type": "display_data"
    }
   ],
   "source": [
    "plot_book_paragraph_length()"
   ]
  },
  {
   "cell_type": "code",
   "execution_count": 7,
   "id": "d3f92a14",
   "metadata": {},
   "outputs": [
    {
     "name": "stdout",
     "output_type": "stream",
     "text": [
      "Percent of pargraphs that have characters\n",
      " number >=60 in each book\n",
      "Book # 0 --> 77.00698497751411 %\n",
      "Book # 1 --> 86.53701514988718 %\n",
      "Book # 2 --> 65.9641486741882 %\n",
      "Book # 3 --> 64.70371281042537 %\n",
      "Book # 4 --> 62.78031166856708 %\n"
     ]
    }
   ],
   "source": [
    "print(\"Percent of pargraphs that have characters\\n number >=60 in each book\")\n",
    "for index,book in enumerate(get_books_before_filter(books)):\n",
    "  splited_book = re.split(r\"\\r\\n\",book)\n",
    "  good_paragraphs = [paragraph for paragraph in splited_book if len(paragraph)>=60]\n",
    "  print(\" \".join([\"Book #\",str(index),\"-->\",str(len(good_paragraphs)/len(splited_book)*100),\"%\"]))"
   ]
  },
  {
   "cell_type": "code",
   "execution_count": 8,
   "id": "b47b723c",
   "metadata": {},
   "outputs": [],
   "source": [
    "def get_books(books_links:list) -> list:\n",
    "    book_list= []\n",
    "    for book in get_books_before_filter(books_links):\n",
    "        splited_book = re.split(r\"\\r\\n\",book)\n",
    "        good_paragraphs = [paragraph for paragraph in splited_book if len(paragraph)>=60]\n",
    "        book_list.append(\" \".join(good_paragraphs))\n",
    "    return book_list"
   ]
  },
  {
   "cell_type": "markdown",
   "id": "9e2c4e6b",
   "metadata": {},
   "source": [
    "## Preprocessing"
   ]
  },
  {
   "cell_type": "code",
   "execution_count": 9,
   "id": "bdcf0056",
   "metadata": {},
   "outputs": [],
   "source": [
    "def cleanUp(lstTxt: list) -> list:\n",
    "    \n",
    "    '''\n",
    "        1- CleanUp.\n",
    "            1.1 include numbers and alphabets only.\n",
    "            1.2 Change Case to lower case.\n",
    "            1.3 Remove extra spaces.\n",
    "            1.4 remove leading whitespaces.\n",
    "            1.5 Replace punctuation with whitespaces\n",
    "    '''\n",
    "    cleaned_lst = []\n",
    "    for txt in lstTxt:\n",
    "        txt = re.sub(r'[^A-Z a-z]', ' ', txt)# include only alphabets and numbers\n",
    "        txt = re.sub(' +', ' ', txt)# remove extra spaces\n",
    "        txt = txt.lower()#convert to lower case\n",
    "        txt = txt.strip()# remove leading whitespaces\n",
    "        txt = re.compile('[%s]' % re.escape(string.punctuation)).sub(' ', txt) #Replace punctuation with whitespaces\n",
    "        cleaned_lst.append(txt)\n",
    "    return cleaned_lst\n"
   ]
  },
  {
   "cell_type": "code",
   "execution_count": 10,
   "id": "10e5456e",
   "metadata": {},
   "outputs": [],
   "source": [
    "def stopWordRemoval(book_lst: list) -> list:\n",
    "    l = []\n",
    "    for book in book_lst:\n",
    "        words = word_tokenize(book)\n",
    "        good_tokens = []\n",
    "        for word in words:\n",
    "            if word not in stop_words:\n",
    "                good_tokens.append(word)\n",
    "        l.append(\" \".join(good_tokens))\n",
    "    return l"
   ]
  },
  {
   "cell_type": "code",
   "execution_count": 11,
   "id": "d9795640",
   "metadata": {},
   "outputs": [],
   "source": [
    "def partitioning(txt:str) -> list:\n",
    "    \n",
    "    '''\n",
    "        This function tries to partition a string into 200 partitions with 100 words for each partition.\n",
    "        The function expexcts a string and returns a list of strings (where string length is 100) of size 200\n",
    "        (number of partitions). \n",
    "    '''\n",
    "    \n",
    "    try:\n",
    "        \n",
    "        res = [] # where the result will be\n",
    "        beg = 0 # an index for the beginning of the partition\n",
    "        end = 100# an end for the last index we seek\n",
    "        lst_txt = re.split(' ', txt)\n",
    "        for i in range(200):\n",
    "            res.append(' '.join(lst_txt[beg:end]))\n",
    "            beg = end\n",
    "            end += 100\n",
    "           \n",
    "        return res\n",
    "    \n",
    "    except TypeError:\n",
    "        print(\"Please specifiy a string as an argument\")"
   ]
  },
  {
   "cell_type": "code",
   "execution_count": 12,
   "id": "8d3d8562",
   "metadata": {},
   "outputs": [],
   "source": [
    "labels=['A', 'B', 'C', 'D', 'E']\n",
    "def MakeDatafram(lst:list, index:int) -> pd.DataFrame:\n",
    "    \n",
    "    '''\n",
    "        The function consumes a list which is the list of text srings of the book and also an integer which is\n",
    "        the index of the book in the all list of books and produces a dataframe that maps the lst \n",
    "        and the index together into two columns.\n",
    "        \n",
    "    '''\n",
    "    df = pd.DataFrame({'Text': lst,'label':[labels[index]]*200})\n",
    "    return df"
   ]
  },
  {
   "cell_type": "code",
   "execution_count": 13,
   "id": "30e6e848",
   "metadata": {},
   "outputs": [],
   "source": [
    "def StackDataFrames(lst:list) -> pd.DataFrame:\n",
    "    return pd.concat(lst,ignore_index=True)"
   ]
  },
  {
   "cell_type": "code",
   "execution_count": 14,
   "id": "9455f128",
   "metadata": {},
   "outputs": [],
   "source": [
    "def prepare(books: list) -> pd.DataFrame:\n",
    "    '''\n",
    "        1- select 200 random sample of each book, each record is 100 words.\n",
    "        2- Label them.\n",
    "        3- return a DataFrame of all the labeled data.\n",
    "    '''\n",
    "    i = 0\n",
    "    lst_dfs = []\n",
    "    \n",
    "    for book in books:\n",
    "        partition = partitioning(book)\n",
    "        df = MakeDatafram(partition, i)\n",
    "        lst_dfs.append(df)\n",
    "        i += 1\n",
    "    return StackDataFrames(lst_dfs)"
   ]
  },
  {
   "cell_type": "code",
   "execution_count": 15,
   "id": "c9727156",
   "metadata": {},
   "outputs": [],
   "source": [
    "def pre_processing(books: list) -> pd.DataFrame:\n",
    "    '''\n",
    "        Aggregate all the preprocessing tasks in one place.\n",
    "    '''\n",
    "    cleaned = cleanUp(books)\n",
    "    without_stop = stopWordRemoval(cleaned)\n",
    "    \n",
    "    return prepare(without_stop)"
   ]
  },
  {
   "cell_type": "code",
   "execution_count": 16,
   "id": "6085da0c",
   "metadata": {},
   "outputs": [],
   "source": [
    "df = pre_processing(get_books(books))"
   ]
  },
  {
   "cell_type": "code",
   "execution_count": 17,
   "id": "a2b7ac41",
   "metadata": {},
   "outputs": [
    {
     "data": {
      "text/html": [
       "<div>\n",
       "<style scoped>\n",
       "    .dataframe tbody tr th:only-of-type {\n",
       "        vertical-align: middle;\n",
       "    }\n",
       "\n",
       "    .dataframe tbody tr th {\n",
       "        vertical-align: top;\n",
       "    }\n",
       "\n",
       "    .dataframe thead th {\n",
       "        text-align: right;\n",
       "    }\n",
       "</style>\n",
       "<table border=\"1\" class=\"dataframe\">\n",
       "  <thead>\n",
       "    <tr style=\"text-align: right;\">\n",
       "      <th></th>\n",
       "      <th>Text</th>\n",
       "      <th>label</th>\n",
       "    </tr>\n",
       "  </thead>\n",
       "  <tbody>\n",
       "    <tr>\n",
       "      <th>0</th>\n",
       "      <td>project gutenberg ebook ancient egypt george r...</td>\n",
       "      <td>A</td>\n",
       "    </tr>\n",
       "    <tr>\n",
       "      <th>1</th>\n",
       "      <td>two marked varieties physique two types charac...</td>\n",
       "      <td>A</td>\n",
       "    </tr>\n",
       "    <tr>\n",
       "      <th>2</th>\n",
       "      <td>builders khufu shafra menkaura pyramids tombs ...</td>\n",
       "      <td>A</td>\n",
       "    </tr>\n",
       "    <tr>\n",
       "      <th>3</th>\n",
       "      <td>dimensions amenemhat labyrinth pyramid wanderi...</td>\n",
       "      <td>A</td>\n",
       "    </tr>\n",
       "    <tr>\n",
       "      <th>4</th>\n",
       "      <td>quit egypt early wars thothmes ethiopia nubia ...</td>\n",
       "      <td>A</td>\n",
       "    </tr>\n",
       "    <tr>\n",
       "      <th>...</th>\n",
       "      <td>...</td>\n",
       "      <td>...</td>\n",
       "    </tr>\n",
       "    <tr>\n",
       "      <th>995</th>\n",
       "      <td>entangled hundred pros cons feared venture adv...</td>\n",
       "      <td>E</td>\n",
       "    </tr>\n",
       "    <tr>\n",
       "      <th>996</th>\n",
       "      <td>events described house charioteer mena resembl...</td>\n",
       "      <td>E</td>\n",
       "    </tr>\n",
       "    <tr>\n",
       "      <th>997</th>\n",
       "      <td>sister crossed threshold first time four years...</td>\n",
       "      <td>E</td>\n",
       "    </tr>\n",
       "    <tr>\n",
       "      <th>998</th>\n",
       "      <td>royal descent always rested early morning till...</td>\n",
       "      <td>E</td>\n",
       "    </tr>\n",
       "    <tr>\n",
       "      <th>999</th>\n",
       "      <td>left new royal family became widow received si...</td>\n",
       "      <td>E</td>\n",
       "    </tr>\n",
       "  </tbody>\n",
       "</table>\n",
       "<p>1000 rows × 2 columns</p>\n",
       "</div>"
      ],
      "text/plain": [
       "                                                  Text label\n",
       "0    project gutenberg ebook ancient egypt george r...     A\n",
       "1    two marked varieties physique two types charac...     A\n",
       "2    builders khufu shafra menkaura pyramids tombs ...     A\n",
       "3    dimensions amenemhat labyrinth pyramid wanderi...     A\n",
       "4    quit egypt early wars thothmes ethiopia nubia ...     A\n",
       "..                                                 ...   ...\n",
       "995  entangled hundred pros cons feared venture adv...     E\n",
       "996  events described house charioteer mena resembl...     E\n",
       "997  sister crossed threshold first time four years...     E\n",
       "998  royal descent always rested early morning till...     E\n",
       "999  left new royal family became widow received si...     E\n",
       "\n",
       "[1000 rows x 2 columns]"
      ]
     },
     "execution_count": 17,
     "metadata": {},
     "output_type": "execute_result"
    }
   ],
   "source": [
    "df"
   ]
  },
  {
   "cell_type": "markdown",
   "id": "9cfb00a5",
   "metadata": {},
   "source": [
    "## Feature Engineering"
   ]
  },
  {
   "cell_type": "markdown",
   "id": "72ce5670",
   "metadata": {},
   "source": [
    "### 1. BOW"
   ]
  },
  {
   "cell_type": "code",
   "execution_count": 18,
   "id": "716b0b05",
   "metadata": {},
   "outputs": [],
   "source": [
    "# Create label encoded y\n",
    "y_encoded = EncodeLabel(df['label'])"
   ]
  },
  {
   "cell_type": "code",
   "execution_count": 19,
   "id": "124b0863",
   "metadata": {},
   "outputs": [
    {
     "data": {
      "text/html": [
       "<div>\n",
       "<style scoped>\n",
       "    .dataframe tbody tr th:only-of-type {\n",
       "        vertical-align: middle;\n",
       "    }\n",
       "\n",
       "    .dataframe tbody tr th {\n",
       "        vertical-align: top;\n",
       "    }\n",
       "\n",
       "    .dataframe thead th {\n",
       "        text-align: right;\n",
       "    }\n",
       "</style>\n",
       "<table border=\"1\" class=\"dataframe\">\n",
       "  <thead>\n",
       "    <tr style=\"text-align: right;\">\n",
       "      <th></th>\n",
       "      <th>project</th>\n",
       "      <th>gutenberg</th>\n",
       "      <th>ebook</th>\n",
       "      <th>ancient</th>\n",
       "      <th>egypt</th>\n",
       "      <th>george</th>\n",
       "      <th>rawlinson</th>\n",
       "      <th>use</th>\n",
       "      <th>anyone</th>\n",
       "      <th>anywhere</th>\n",
       "      <th>...</th>\n",
       "      <th>ptolemaic</th>\n",
       "      <th>macedonian</th>\n",
       "      <th>philadelphus</th>\n",
       "      <th>arsinoe</th>\n",
       "      <th>saturn</th>\n",
       "      <th>squandered</th>\n",
       "      <th>compensate</th>\n",
       "      <th>insults</th>\n",
       "      <th>heaped</th>\n",
       "      <th>benefactor</th>\n",
       "    </tr>\n",
       "  </thead>\n",
       "  <tbody>\n",
       "    <tr>\n",
       "      <th>0</th>\n",
       "      <td>0</td>\n",
       "      <td>0</td>\n",
       "      <td>0</td>\n",
       "      <td>0</td>\n",
       "      <td>0</td>\n",
       "      <td>0</td>\n",
       "      <td>0</td>\n",
       "      <td>0</td>\n",
       "      <td>0</td>\n",
       "      <td>0</td>\n",
       "      <td>...</td>\n",
       "      <td>0</td>\n",
       "      <td>0</td>\n",
       "      <td>0</td>\n",
       "      <td>0</td>\n",
       "      <td>0</td>\n",
       "      <td>0</td>\n",
       "      <td>0</td>\n",
       "      <td>0</td>\n",
       "      <td>0</td>\n",
       "      <td>0</td>\n",
       "    </tr>\n",
       "    <tr>\n",
       "      <th>1</th>\n",
       "      <td>0</td>\n",
       "      <td>0</td>\n",
       "      <td>0</td>\n",
       "      <td>0</td>\n",
       "      <td>0</td>\n",
       "      <td>0</td>\n",
       "      <td>0</td>\n",
       "      <td>0</td>\n",
       "      <td>0</td>\n",
       "      <td>0</td>\n",
       "      <td>...</td>\n",
       "      <td>0</td>\n",
       "      <td>0</td>\n",
       "      <td>0</td>\n",
       "      <td>0</td>\n",
       "      <td>0</td>\n",
       "      <td>0</td>\n",
       "      <td>0</td>\n",
       "      <td>0</td>\n",
       "      <td>0</td>\n",
       "      <td>0</td>\n",
       "    </tr>\n",
       "    <tr>\n",
       "      <th>2</th>\n",
       "      <td>0</td>\n",
       "      <td>0</td>\n",
       "      <td>0</td>\n",
       "      <td>0</td>\n",
       "      <td>0</td>\n",
       "      <td>0</td>\n",
       "      <td>0</td>\n",
       "      <td>0</td>\n",
       "      <td>0</td>\n",
       "      <td>0</td>\n",
       "      <td>...</td>\n",
       "      <td>0</td>\n",
       "      <td>0</td>\n",
       "      <td>0</td>\n",
       "      <td>0</td>\n",
       "      <td>0</td>\n",
       "      <td>0</td>\n",
       "      <td>0</td>\n",
       "      <td>0</td>\n",
       "      <td>0</td>\n",
       "      <td>0</td>\n",
       "    </tr>\n",
       "    <tr>\n",
       "      <th>3</th>\n",
       "      <td>0</td>\n",
       "      <td>0</td>\n",
       "      <td>0</td>\n",
       "      <td>1</td>\n",
       "      <td>0</td>\n",
       "      <td>0</td>\n",
       "      <td>0</td>\n",
       "      <td>0</td>\n",
       "      <td>0</td>\n",
       "      <td>0</td>\n",
       "      <td>...</td>\n",
       "      <td>0</td>\n",
       "      <td>0</td>\n",
       "      <td>0</td>\n",
       "      <td>0</td>\n",
       "      <td>0</td>\n",
       "      <td>0</td>\n",
       "      <td>0</td>\n",
       "      <td>0</td>\n",
       "      <td>0</td>\n",
       "      <td>0</td>\n",
       "    </tr>\n",
       "    <tr>\n",
       "      <th>4</th>\n",
       "      <td>0</td>\n",
       "      <td>0</td>\n",
       "      <td>0</td>\n",
       "      <td>0</td>\n",
       "      <td>0</td>\n",
       "      <td>0</td>\n",
       "      <td>0</td>\n",
       "      <td>0</td>\n",
       "      <td>0</td>\n",
       "      <td>0</td>\n",
       "      <td>...</td>\n",
       "      <td>0</td>\n",
       "      <td>0</td>\n",
       "      <td>0</td>\n",
       "      <td>0</td>\n",
       "      <td>0</td>\n",
       "      <td>0</td>\n",
       "      <td>0</td>\n",
       "      <td>0</td>\n",
       "      <td>0</td>\n",
       "      <td>0</td>\n",
       "    </tr>\n",
       "    <tr>\n",
       "      <th>...</th>\n",
       "      <td>...</td>\n",
       "      <td>...</td>\n",
       "      <td>...</td>\n",
       "      <td>...</td>\n",
       "      <td>...</td>\n",
       "      <td>...</td>\n",
       "      <td>...</td>\n",
       "      <td>...</td>\n",
       "      <td>...</td>\n",
       "      <td>...</td>\n",
       "      <td>...</td>\n",
       "      <td>...</td>\n",
       "      <td>...</td>\n",
       "      <td>...</td>\n",
       "      <td>...</td>\n",
       "      <td>...</td>\n",
       "      <td>...</td>\n",
       "      <td>...</td>\n",
       "      <td>...</td>\n",
       "      <td>...</td>\n",
       "      <td>...</td>\n",
       "    </tr>\n",
       "    <tr>\n",
       "      <th>995</th>\n",
       "      <td>0</td>\n",
       "      <td>0</td>\n",
       "      <td>0</td>\n",
       "      <td>0</td>\n",
       "      <td>0</td>\n",
       "      <td>0</td>\n",
       "      <td>0</td>\n",
       "      <td>0</td>\n",
       "      <td>0</td>\n",
       "      <td>0</td>\n",
       "      <td>...</td>\n",
       "      <td>0</td>\n",
       "      <td>0</td>\n",
       "      <td>0</td>\n",
       "      <td>0</td>\n",
       "      <td>0</td>\n",
       "      <td>0</td>\n",
       "      <td>0</td>\n",
       "      <td>0</td>\n",
       "      <td>0</td>\n",
       "      <td>0</td>\n",
       "    </tr>\n",
       "    <tr>\n",
       "      <th>996</th>\n",
       "      <td>0</td>\n",
       "      <td>0</td>\n",
       "      <td>0</td>\n",
       "      <td>0</td>\n",
       "      <td>0</td>\n",
       "      <td>0</td>\n",
       "      <td>0</td>\n",
       "      <td>0</td>\n",
       "      <td>0</td>\n",
       "      <td>0</td>\n",
       "      <td>...</td>\n",
       "      <td>0</td>\n",
       "      <td>0</td>\n",
       "      <td>0</td>\n",
       "      <td>0</td>\n",
       "      <td>0</td>\n",
       "      <td>0</td>\n",
       "      <td>0</td>\n",
       "      <td>0</td>\n",
       "      <td>0</td>\n",
       "      <td>0</td>\n",
       "    </tr>\n",
       "    <tr>\n",
       "      <th>997</th>\n",
       "      <td>0</td>\n",
       "      <td>0</td>\n",
       "      <td>0</td>\n",
       "      <td>0</td>\n",
       "      <td>0</td>\n",
       "      <td>0</td>\n",
       "      <td>0</td>\n",
       "      <td>0</td>\n",
       "      <td>0</td>\n",
       "      <td>0</td>\n",
       "      <td>...</td>\n",
       "      <td>0</td>\n",
       "      <td>0</td>\n",
       "      <td>0</td>\n",
       "      <td>0</td>\n",
       "      <td>0</td>\n",
       "      <td>0</td>\n",
       "      <td>0</td>\n",
       "      <td>0</td>\n",
       "      <td>0</td>\n",
       "      <td>0</td>\n",
       "    </tr>\n",
       "    <tr>\n",
       "      <th>998</th>\n",
       "      <td>0</td>\n",
       "      <td>0</td>\n",
       "      <td>0</td>\n",
       "      <td>0</td>\n",
       "      <td>0</td>\n",
       "      <td>0</td>\n",
       "      <td>0</td>\n",
       "      <td>0</td>\n",
       "      <td>0</td>\n",
       "      <td>0</td>\n",
       "      <td>...</td>\n",
       "      <td>0</td>\n",
       "      <td>0</td>\n",
       "      <td>0</td>\n",
       "      <td>0</td>\n",
       "      <td>0</td>\n",
       "      <td>0</td>\n",
       "      <td>0</td>\n",
       "      <td>0</td>\n",
       "      <td>0</td>\n",
       "      <td>0</td>\n",
       "    </tr>\n",
       "    <tr>\n",
       "      <th>999</th>\n",
       "      <td>0</td>\n",
       "      <td>0</td>\n",
       "      <td>0</td>\n",
       "      <td>0</td>\n",
       "      <td>0</td>\n",
       "      <td>0</td>\n",
       "      <td>0</td>\n",
       "      <td>0</td>\n",
       "      <td>0</td>\n",
       "      <td>0</td>\n",
       "      <td>...</td>\n",
       "      <td>0</td>\n",
       "      <td>0</td>\n",
       "      <td>0</td>\n",
       "      <td>0</td>\n",
       "      <td>0</td>\n",
       "      <td>0</td>\n",
       "      <td>0</td>\n",
       "      <td>0</td>\n",
       "      <td>0</td>\n",
       "      <td>0</td>\n",
       "    </tr>\n",
       "  </tbody>\n",
       "</table>\n",
       "<p>1000 rows × 13818 columns</p>\n",
       "</div>"
      ],
      "text/plain": [
       "     project  gutenberg  ebook  ancient  egypt  george  rawlinson  use  \\\n",
       "0          0          0      0        0      0       0          0    0   \n",
       "1          0          0      0        0      0       0          0    0   \n",
       "2          0          0      0        0      0       0          0    0   \n",
       "3          0          0      0        1      0       0          0    0   \n",
       "4          0          0      0        0      0       0          0    0   \n",
       "..       ...        ...    ...      ...    ...     ...        ...  ...   \n",
       "995        0          0      0        0      0       0          0    0   \n",
       "996        0          0      0        0      0       0          0    0   \n",
       "997        0          0      0        0      0       0          0    0   \n",
       "998        0          0      0        0      0       0          0    0   \n",
       "999        0          0      0        0      0       0          0    0   \n",
       "\n",
       "     anyone  anywhere  ...  ptolemaic  macedonian  philadelphus  arsinoe  \\\n",
       "0         0         0  ...          0           0             0        0   \n",
       "1         0         0  ...          0           0             0        0   \n",
       "2         0         0  ...          0           0             0        0   \n",
       "3         0         0  ...          0           0             0        0   \n",
       "4         0         0  ...          0           0             0        0   \n",
       "..      ...       ...  ...        ...         ...           ...      ...   \n",
       "995       0         0  ...          0           0             0        0   \n",
       "996       0         0  ...          0           0             0        0   \n",
       "997       0         0  ...          0           0             0        0   \n",
       "998       0         0  ...          0           0             0        0   \n",
       "999       0         0  ...          0           0             0        0   \n",
       "\n",
       "     saturn  squandered  compensate  insults  heaped  benefactor  \n",
       "0         0           0           0        0       0           0  \n",
       "1         0           0           0        0       0           0  \n",
       "2         0           0           0        0       0           0  \n",
       "3         0           0           0        0       0           0  \n",
       "4         0           0           0        0       0           0  \n",
       "..      ...         ...         ...      ...     ...         ...  \n",
       "995       0           0           0        0       0           0  \n",
       "996       0           0           0        0       0           0  \n",
       "997       0           0           0        0       0           0  \n",
       "998       0           0           0        0       0           0  \n",
       "999       0           0           0        0       0           0  \n",
       "\n",
       "[1000 rows x 13818 columns]"
      ]
     },
     "metadata": {},
     "output_type": "display_data"
    }
   ],
   "source": [
    "def BOW(df):\n",
    "    all_Partitions = list(df[\"Text\"])\n",
    "    \n",
    "    vectorizer = CountVectorizer(analyzer = \"word\")\n",
    "    bow_matrix = vectorizer.fit(all_Partitions)\n",
    "    feature_names = vectorizer.vocabulary_\n",
    "    \n",
    "    bow_matrix = vectorizer.transform(all_Partitions)\n",
    "    feature_array = bow_matrix.toarray()\n",
    "    \n",
    "    display(pd.DataFrame(feature_array, columns=feature_names))\n",
    "    return feature_array\n",
    "\n",
    "X_bag_of_words= BOW(df)\n",
    "X_train_bow, X_test_bow, y_train_bow, y_test_bow = train_test_split(X_bag_of_words, y_encoded, test_size = 0.20, random_state=42)\n"
   ]
  },
  {
   "cell_type": "markdown",
   "id": "e5f69bbb",
   "metadata": {},
   "source": [
    "### Training BOW"
   ]
  },
  {
   "cell_type": "markdown",
   "id": "f7de8555",
   "metadata": {},
   "source": [
    "#### A. BOW with SVM"
   ]
  },
  {
   "cell_type": "code",
   "execution_count": 20,
   "id": "fc7eca02",
   "metadata": {},
   "outputs": [],
   "source": [
    "models_acc = []\n",
    "models_pred = []\n"
   ]
  },
  {
   "cell_type": "code",
   "execution_count": 21,
   "id": "7a640e77",
   "metadata": {},
   "outputs": [],
   "source": [
    "clf_bow_svm = SVC(kernel='linear', C =200, probability=True)\n",
    "clf_bow_svm =OneVsRestClassifier(LinearSVC())\n",
    "\n",
    "# train model\n",
    "clf_bow_svm = classify_train(X_train_bow, y_train_bow, clf_bow_svm)[0]\n",
    "# make predictions\n",
    "pred_bow_svm = classify(X_train_bow, y_train_bow, X_test_bow, clf_bow_svm)[1]"
   ]
  },
  {
   "cell_type": "markdown",
   "id": "62f18c4b",
   "metadata": {},
   "source": [
    "Assessing the model"
   ]
  },
  {
   "cell_type": "markdown",
   "id": "c643e5c8",
   "metadata": {},
   "source": [
    "### 10-Fold Cross validation"
   ]
  },
  {
   "cell_type": "code",
   "execution_count": 22,
   "id": "51305911",
   "metadata": {},
   "outputs": [
    {
     "name": "stdout",
     "output_type": "stream",
     "text": [
      "Accuracy using cross validation with 10-Fold\n",
      " Iteration: 1 Accuracy: 1.00 \n",
      " Iteration: 2 Accuracy: 0.99 \n",
      " Iteration: 3 Accuracy: 0.99 \n",
      " Iteration: 4 Accuracy: 1.00 \n",
      " Iteration: 5 Accuracy: 0.99 \n",
      " Iteration: 6 Accuracy: 0.99 \n",
      " Iteration: 7 Accuracy: 0.97 \n",
      " Iteration: 8 Accuracy: 0.99 \n",
      " Iteration: 9 Accuracy: 0.97 \n",
      " Iteration: 10 Accuracy: 0.99 \n",
      "Total accuracy: 0.99 (+/- 0.02)\n"
     ]
    }
   ],
   "source": [
    "cross_validation(clf_bow_svm, 5, 10 ,0.2, X_train_bow, y_train_bow)"
   ]
  },
  {
   "cell_type": "markdown",
   "id": "f3c91f5c",
   "metadata": {},
   "source": [
    "### Error Analysis\n",
    "Looking At the confusion matrix might help identify what went wrong with the classifier."
   ]
  },
  {
   "cell_type": "code",
   "execution_count": 23,
   "id": "72f730a8",
   "metadata": {},
   "outputs": [
    {
     "data": {
      "image/png": "[encoded data removed]",
      "text/plain": [
       "<Figure size 432x288 with 2 Axes>"
      ]
     },
     "metadata": {
      "needs_background": "light"
     },
     "output_type": "display_data"
    },
    {
     "data": {
      "text/plain": [
       "0.98"
      ]
     },
     "execution_count": 23,
     "metadata": {},
     "output_type": "execute_result"
    }
   ],
   "source": [
    "ModelAssemesment(y_test_bow, pred_bow_svm, clf_bow_svm)"
   ]
  },
  {
   "cell_type": "markdown",
   "id": "02b4d5ed",
   "metadata": {},
   "source": [
    "With accuraccy 97% on Test set and 98% on validation set, it's safe to say that our classifier is doing a very good job. \n",
    "\n",
    "The errors happen when distinguishing between first and last authors, and between second and third author."
   ]
  },
  {
   "cell_type": "markdown",
   "id": "0732651d",
   "metadata": {},
   "source": [
    "#### B. BOW with KNN"
   ]
  },
  {
   "cell_type": "code",
   "execution_count": 24,
   "id": "0dfa93a3",
   "metadata": {},
   "outputs": [],
   "source": [
    "clf_bow_knn = KNeighborsClassifier()\n",
    "pred_bow_knn = classify(X_train_bow, y_train_bow, X_test_bow, clf_bow_knn)[1]"
   ]
  },
  {
   "cell_type": "markdown",
   "id": "fb5562b3",
   "metadata": {},
   "source": [
    "### 10-Fold Cross Validation"
   ]
  },
  {
   "cell_type": "code",
   "execution_count": 25,
   "id": "9a6ee511",
   "metadata": {},
   "outputs": [
    {
     "name": "stdout",
     "output_type": "stream",
     "text": [
      "Accuracy using cross validation with 10-Fold\n",
      " Iteration: 1 Accuracy: 0.88 \n",
      " Iteration: 2 Accuracy: 0.94 \n",
      " Iteration: 3 Accuracy: 0.85 \n",
      " Iteration: 4 Accuracy: 1.00 \n",
      " Iteration: 5 Accuracy: 0.90 \n",
      " Iteration: 6 Accuracy: 0.95 \n",
      " Iteration: 7 Accuracy: 0.89 \n",
      " Iteration: 8 Accuracy: 0.89 \n",
      " Iteration: 9 Accuracy: 0.90 \n",
      " Iteration: 10 Accuracy: 0.93 \n",
      "Total accuracy: 0.91 (+/- 0.08)\n"
     ]
    }
   ],
   "source": [
    "cross_validation(clf_bow_knn, 5, 10 ,0.2, X_train_bow, y_train_bow)"
   ]
  },
  {
   "cell_type": "markdown",
   "id": "e174c608",
   "metadata": {},
   "source": [
    "### Error Analysis"
   ]
  },
  {
   "cell_type": "code",
   "execution_count": 26,
   "id": "e87a436a",
   "metadata": {},
   "outputs": [
    {
     "data": {
      "image/png": "[encoded data removed]",
      "text/plain": [
       "<Figure size 432x288 with 2 Axes>"
      ]
     },
     "metadata": {
      "needs_background": "light"
     },
     "output_type": "display_data"
    },
    {
     "data": {
      "text/plain": [
       "0.87"
      ]
     },
     "execution_count": 26,
     "metadata": {},
     "output_type": "execute_result"
    }
   ],
   "source": [
    "ModelAssemesment(y_test_bow, pred_bow_knn, clf_bow_knn)"
   ]
  },
  {
   "cell_type": "markdown",
   "id": "3dbd1fca",
   "metadata": {},
   "source": [
    "Our classifier's accuraccy on test set is about 89%, and on validation set is about 90%, which indicates that there is a little bit some mis-learned features implicitly in the model.\n",
    "\n",
    "Looking at the confusion matrix, we find that the model can perfectly classify the second Author's texts, but most of the error happens because the model chooses the second and the last author. \n",
    "\n",
    "Our classifier is pretty good at classifying second Author correctly. But this not the problem.\n",
    "In a fany terminology, we would say that ther is a bias towards the second and the last author. This also indicates that we want to decrease the **FP** rate of the class 1.\n",
    "\n",
    "We can inject more text into the classifier that has a lot of similar tokens as the Book of the second Author and make the classifier learn to distinguish them."
   ]
  },
  {
   "cell_type": "markdown",
   "id": "ce0326ab",
   "metadata": {},
   "source": [
    "#### C. BOW with Decision Tree"
   ]
  },
  {
   "cell_type": "code",
   "execution_count": 27,
   "id": "0c294e7d",
   "metadata": {},
   "outputs": [],
   "source": [
    "clf_bow_dtr = DecisionTreeClassifier()\n",
    "pred_bow_dtr = classify(X_train_bow, y_train_bow, X_test_bow, clf_bow_dtr)[1]"
   ]
  },
  {
   "cell_type": "markdown",
   "id": "30dd32a6",
   "metadata": {},
   "source": [
    "### 10-Fold Cross validation"
   ]
  },
  {
   "cell_type": "code",
   "execution_count": 28,
   "id": "7024a2c7",
   "metadata": {},
   "outputs": [
    {
     "name": "stdout",
     "output_type": "stream",
     "text": [
      "Accuracy using cross validation with 10-Fold\n",
      " Iteration: 1 Accuracy: 0.79 \n",
      " Iteration: 2 Accuracy: 0.90 \n",
      " Iteration: 3 Accuracy: 0.78 \n",
      " Iteration: 4 Accuracy: 0.81 \n",
      " Iteration: 5 Accuracy: 0.78 \n",
      " Iteration: 6 Accuracy: 0.82 \n",
      " Iteration: 7 Accuracy: 0.80 \n",
      " Iteration: 8 Accuracy: 0.74 \n",
      " Iteration: 9 Accuracy: 0.75 \n",
      " Iteration: 10 Accuracy: 0.72 \n",
      "Total accuracy: 0.79 (+/- 0.10)\n"
     ]
    }
   ],
   "source": [
    "cross_validation(clf_bow_dtr, 5, 10 ,0.2, X_train_bow, y_train_bow)"
   ]
  },
  {
   "cell_type": "markdown",
   "id": "a0bcead0",
   "metadata": {},
   "source": [
    "### Error Analysis"
   ]
  },
  {
   "cell_type": "code",
   "execution_count": 29,
   "id": "b09adcf2",
   "metadata": {},
   "outputs": [
    {
     "data": {
      "image/png": "[encoded data removed]",
      "text/plain": [
       "<Figure size 432x288 with 2 Axes>"
      ]
     },
     "metadata": {
      "needs_background": "light"
     },
     "output_type": "display_data"
    },
    {
     "data": {
      "text/plain": [
       "0.81"
      ]
     },
     "execution_count": 29,
     "metadata": {},
     "output_type": "execute_result"
    }
   ],
   "source": [
    "ModelAssemesment(y_test_bow, pred_bow_dtr, clf_bow_dtr)"
   ]
  },
  {
   "cell_type": "markdown",
   "id": "a2386136",
   "metadata": {},
   "source": [
    "With an acuraccy of 75% on test data, our classifier is doing a really bad job in classifying the texts correctly. We can easilt say that decision tree is not able to handle the classification properly, hence, it's worth not to depend on it as a main model. "
   ]
  },
  {
   "cell_type": "markdown",
   "id": "de0f7da7",
   "metadata": {},
   "source": [
    "## 2. Training TF-IDF"
   ]
  },
  {
   "cell_type": "code",
   "execution_count": 30,
   "id": "e09bc425",
   "metadata": {},
   "outputs": [],
   "source": [
    "X_train_tf, X_test_tf, y_train_tf, y_test_tf = train_test_split(df['Text'], y_encoded)\n",
    "def TF_IDF(df: pd.DataFrame):\n",
    "    \n",
    "    count_vect = CountVectorizer()\n",
    "    X_train_counts = count_vect.fit_transform(X_train_tf)\n",
    "\n",
    "    tfidf_transformer = TfidfTransformer()\n",
    "    X_train_tfidf = tfidf_transformer.fit_transform(X_train_counts)\n",
    "\n",
    "    X_test_counts = count_vect.transform(X_test_tf)\n",
    "    X_test_tfidf = tfidf_transformer.transform(X_test_counts)\n",
    "    \n",
    "    return X_train_counts, X_train_tfidf,X_test_counts, X_test_tfidf\n",
    "\n",
    "X_train_counts, X_train_tfidf,X_test_counts, X_test_tfidf = TF_IDF(df)"
   ]
  },
  {
   "cell_type": "markdown",
   "id": "8d03892f",
   "metadata": {},
   "source": [
    "### 1. TF-IDF with SVM"
   ]
  },
  {
   "cell_type": "code",
   "execution_count": 31,
   "id": "290ae457",
   "metadata": {},
   "outputs": [],
   "source": [
    "clf_tf_svm = SVC(kernel='linear', C =200, probability=True)\n",
    "clf_tf_svm = OneVsRestClassifier(LinearSVC())\n",
    "\n",
    "pred_tf_svm = classify(X_train_tfidf, y_train_tf, X_test_tfidf, clf_tf_svm)[1]"
   ]
  },
  {
   "cell_type": "markdown",
   "id": "255b0bb6",
   "metadata": {},
   "source": [
    "### 10-Fold Cross Validation"
   ]
  },
  {
   "cell_type": "code",
   "execution_count": 32,
   "id": "0ebf5fa7",
   "metadata": {},
   "outputs": [
    {
     "name": "stdout",
     "output_type": "stream",
     "text": [
      "Accuracy using cross validation with 10-Fold\n",
      " Iteration: 1 Accuracy: 0.96 \n",
      " Iteration: 2 Accuracy: 1.00 \n",
      " Iteration: 3 Accuracy: 0.99 \n",
      " Iteration: 4 Accuracy: 1.00 \n",
      " Iteration: 5 Accuracy: 1.00 \n",
      " Iteration: 6 Accuracy: 1.00 \n",
      " Iteration: 7 Accuracy: 0.97 \n",
      " Iteration: 8 Accuracy: 1.00 \n",
      " Iteration: 9 Accuracy: 1.00 \n",
      " Iteration: 10 Accuracy: 0.99 \n",
      "Total accuracy: 0.99 (+/- 0.03)\n"
     ]
    }
   ],
   "source": [
    "cross_validation(clf_tf_svm, 5, 10 ,0.2, X_train_tfidf, y_train_tf)"
   ]
  },
  {
   "cell_type": "markdown",
   "id": "0690db4e",
   "metadata": {},
   "source": [
    "### Error Analysis"
   ]
  },
  {
   "cell_type": "code",
   "execution_count": 33,
   "id": "74049119",
   "metadata": {},
   "outputs": [
    {
     "data": {
      "image/png": "[encoded data removed]",
      "text/plain": [
       "<Figure size 432x288 with 2 Axes>"
      ]
     },
     "metadata": {
      "needs_background": "light"
     },
     "output_type": "display_data"
    },
    {
     "data": {
      "text/plain": [
       "0.98"
      ]
     },
     "execution_count": 33,
     "metadata": {},
     "output_type": "execute_result"
    }
   ],
   "source": [
    "ModelAssemesment(y_test_tf, pred_tf_svm, clf_tf_svm)"
   ]
  },
  {
   "cell_type": "markdown",
   "id": "4b4be9cc",
   "metadata": {},
   "source": [
    "The model is doing a very good job classifying the text."
   ]
  },
  {
   "cell_type": "markdown",
   "id": "8523d1a3",
   "metadata": {},
   "source": [
    "### 2. TF-IDF with KNN"
   ]
  },
  {
   "cell_type": "code",
   "execution_count": 34,
   "id": "ef3fe46b",
   "metadata": {},
   "outputs": [],
   "source": [
    "clf_tf_knn = KNeighborsClassifier()\n",
    "pred_tf_knn = classify(X_train_tfidf, y_train_tf, X_test_tfidf, clf_tf_knn)[1]"
   ]
  },
  {
   "cell_type": "markdown",
   "id": "2016c50c",
   "metadata": {},
   "source": [
    "## 10-Fold Cross Validation"
   ]
  },
  {
   "cell_type": "code",
   "execution_count": 35,
   "id": "9d940397",
   "metadata": {},
   "outputs": [
    {
     "name": "stdout",
     "output_type": "stream",
     "text": [
      "Accuracy using cross validation with 10-Fold\n",
      " Iteration: 1 Accuracy: 0.91 \n",
      " Iteration: 2 Accuracy: 0.95 \n",
      " Iteration: 3 Accuracy: 0.97 \n",
      " Iteration: 4 Accuracy: 0.95 \n",
      " Iteration: 5 Accuracy: 0.96 \n",
      " Iteration: 6 Accuracy: 0.93 \n",
      " Iteration: 7 Accuracy: 0.93 \n",
      " Iteration: 8 Accuracy: 0.99 \n",
      " Iteration: 9 Accuracy: 0.96 \n",
      " Iteration: 10 Accuracy: 0.97 \n",
      "Total accuracy: 0.95 (+/- 0.04)\n"
     ]
    }
   ],
   "source": [
    "cross_validation(clf_tf_knn, 5, 10 ,0.2, X_train_tfidf, y_train_tf)"
   ]
  },
  {
   "cell_type": "markdown",
   "id": "b3902f1a",
   "metadata": {},
   "source": [
    "### Error Analysis"
   ]
  },
  {
   "cell_type": "code",
   "execution_count": 36,
   "id": "1af44005",
   "metadata": {},
   "outputs": [
    {
     "data": {
      "image/png": "[encoded data removed]",
      "text/plain": [
       "<Figure size 432x288 with 2 Axes>"
      ]
     },
     "metadata": {
      "needs_background": "light"
     },
     "output_type": "display_data"
    },
    {
     "data": {
      "text/plain": [
       "0.948"
      ]
     },
     "execution_count": 36,
     "metadata": {},
     "output_type": "execute_result"
    }
   ],
   "source": [
    "ModelAssemesment(y_test_tf, pred_tf_knn, clf_tf_svm)"
   ]
  },
  {
   "cell_type": "markdown",
   "id": "d73f3492",
   "metadata": {},
   "source": [
    "### 3. TF-IDF with Decision Tree"
   ]
  },
  {
   "cell_type": "code",
   "execution_count": 37,
   "id": "06ea2e9e",
   "metadata": {},
   "outputs": [],
   "source": [
    "clf_tf_dtr = DecisionTreeClassifier()\n",
    "pred_tf_dtr = classify(X_train_tfidf, y_train_tf, X_test_tfidf, clf_tf_dtr)[1]\n"
   ]
  },
  {
   "cell_type": "markdown",
   "id": "35a54d75",
   "metadata": {},
   "source": [
    "### 10-Fold Cross Validation"
   ]
  },
  {
   "cell_type": "code",
   "execution_count": 38,
   "id": "928d14a0",
   "metadata": {},
   "outputs": [
    {
     "name": "stdout",
     "output_type": "stream",
     "text": [
      "Accuracy using cross validation with 10-Fold\n",
      " Iteration: 1 Accuracy: 0.79 \n",
      " Iteration: 2 Accuracy: 0.85 \n",
      " Iteration: 3 Accuracy: 0.76 \n",
      " Iteration: 4 Accuracy: 0.84 \n",
      " Iteration: 5 Accuracy: 0.80 \n",
      " Iteration: 6 Accuracy: 0.69 \n",
      " Iteration: 7 Accuracy: 0.75 \n",
      " Iteration: 8 Accuracy: 0.79 \n",
      " Iteration: 9 Accuracy: 0.71 \n",
      " Iteration: 10 Accuracy: 0.67 \n",
      "Total accuracy: 0.76 (+/- 0.12)\n"
     ]
    }
   ],
   "source": [
    "cross_validation(clf_tf_dtr, 5, 10 ,0.2, X_train_tfidf, y_train_tf)"
   ]
  },
  {
   "cell_type": "markdown",
   "id": "e22568e4",
   "metadata": {},
   "source": [
    "### Error Analysis"
   ]
  },
  {
   "cell_type": "code",
   "execution_count": 39,
   "id": "63aec812",
   "metadata": {},
   "outputs": [
    {
     "data": {
      "image/png": "[encoded data removed]",
      "text/plain": [
       "<Figure size 432x288 with 2 Axes>"
      ]
     },
     "metadata": {
      "needs_background": "light"
     },
     "output_type": "display_data"
    },
    {
     "data": {
      "text/plain": [
       "0.736"
      ]
     },
     "execution_count": 39,
     "metadata": {},
     "output_type": "execute_result"
    }
   ],
   "source": [
    "ModelAssemesment(y_test_tf, pred_tf_dtr, clf_tf_dtr)"
   ]
  },
  {
   "cell_type": "markdown",
   "id": "08ab7757",
   "metadata": {},
   "source": [
    "## 3. N-Gram"
   ]
  },
  {
   "cell_type": "code",
   "execution_count": 40,
   "id": "6a650c24",
   "metadata": {},
   "outputs": [
    {
     "name": "stdout",
     "output_type": "stream",
     "text": [
      "(750, 270) (750,) (250, 270) (250,)\n"
     ]
    }
   ],
   "source": [
    "def N_gram(X):\n",
    "    matrix_ngram = TfidfVectorizer(ngram_range=(1, 2),max_features=270,binary=True)\n",
    "\n",
    "    X_ngram= matrix_ngram.fit_transform(X).toarray()\n",
    "\n",
    "    X_ngram_vector = pd.DataFrame(X_ngram,columns = matrix_ngram.get_feature_names())\n",
    "    return X_ngram_vector\n",
    "\n",
    "\n",
    "X_train_ngr, X_test_ngr, y_train_ngr, y_test_ngr = train_test_split(df['Text'], y_encoded)\n",
    "\n",
    "X_train_ngr = N_gram(X_train_ngr)\n",
    "X_test_ngr = N_gram(X_test_ngr)\n",
    "print(X_train_ngr.shape, y_train_ngr.shape, X_test_ngr.shape, y_test_ngr.shape)"
   ]
  },
  {
   "cell_type": "code",
   "execution_count": 41,
   "id": "dbf31556",
   "metadata": {},
   "outputs": [],
   "source": [
    "def N_gram_2(df ,ngram):\n",
    "    vectorizer2 = TfidfVectorizer(analyzer='word', ngram_range=(2, ngram))\n",
    "    X2 = vectorizer2.fit_transform(df['Text'])\n",
    "    return X2\n",
    "\n",
    "\n",
    "X2 = N_gram_2(df, 2)\n",
    "X_train_ngr, X_test_ngr, y_train_ngr, y_test_ngr = train_test_split(X2, y_encoded)"
   ]
  },
  {
   "cell_type": "markdown",
   "id": "98f2a87f",
   "metadata": {},
   "source": [
    "## N-gram Training"
   ]
  },
  {
   "cell_type": "markdown",
   "id": "10e637f8",
   "metadata": {},
   "source": [
    "### 1. N-gram with SVM"
   ]
  },
  {
   "cell_type": "code",
   "execution_count": 42,
   "id": "f94ead9f",
   "metadata": {},
   "outputs": [],
   "source": [
    "clf_ngr_svm = SVC(kernel='linear', C =200, probability=True)\n",
    "clf_ngr_svm =OneVsRestClassifier(LinearSVC())\n",
    "pred_ngr_svm = classify(X_train_ngr, y_train_ngr, X_test_ngr, clf_ngr_svm)[1]"
   ]
  },
  {
   "cell_type": "markdown",
   "id": "43335c92",
   "metadata": {},
   "source": [
    "### 10-Fold Cross Validation"
   ]
  },
  {
   "cell_type": "code",
   "execution_count": 43,
   "id": "7fd30e9a",
   "metadata": {},
   "outputs": [
    {
     "name": "stdout",
     "output_type": "stream",
     "text": [
      "Accuracy using cross validation with 10-Fold\n",
      " Iteration: 1 Accuracy: 0.88 \n",
      " Iteration: 2 Accuracy: 0.85 \n",
      " Iteration: 3 Accuracy: 0.92 \n",
      " Iteration: 4 Accuracy: 0.89 \n",
      " Iteration: 5 Accuracy: 0.77 \n",
      " Iteration: 6 Accuracy: 0.88 \n",
      " Iteration: 7 Accuracy: 0.91 \n",
      " Iteration: 8 Accuracy: 0.93 \n",
      " Iteration: 9 Accuracy: 0.88 \n",
      " Iteration: 10 Accuracy: 0.91 \n",
      "Total accuracy: 0.88 (+/- 0.08)\n"
     ]
    }
   ],
   "source": [
    "cross_validation(clf_ngr_svm, 5, 10 ,0.2, X_train_ngr, y_train_ngr)"
   ]
  },
  {
   "cell_type": "markdown",
   "id": "33ef39b9",
   "metadata": {},
   "source": [
    "### Error Analysis"
   ]
  },
  {
   "cell_type": "code",
   "execution_count": 44,
   "id": "0ee7330f",
   "metadata": {},
   "outputs": [
    {
     "data": {
      "image/png": "[encoded data removed]",
      "text/plain": [
       "<Figure size 432x288 with 2 Axes>"
      ]
     },
     "metadata": {
      "needs_background": "light"
     },
     "output_type": "display_data"
    },
    {
     "data": {
      "text/plain": [
       "0.848"
      ]
     },
     "execution_count": 44,
     "metadata": {},
     "output_type": "execute_result"
    }
   ],
   "source": [
    "ModelAssemesment(y_test_ngr, pred_ngr_svm, clf_ngr_svm)"
   ]
  },
  {
   "cell_type": "code",
   "execution_count": 45,
   "id": "6300923b",
   "metadata": {},
   "outputs": [],
   "source": [
    "clf_ngr_knn = KNeighborsClassifier()\n",
    "pred_ngr_knn = classify(X_train_ngr, y_train_ngr, X_test_ngr, clf_ngr_knn)[1]"
   ]
  },
  {
   "cell_type": "code",
   "execution_count": 46,
   "id": "2d16101c",
   "metadata": {},
   "outputs": [],
   "source": [
    "clf_ngr_dtr = DecisionTreeClassifier()\n",
    "pred_ngr_dtr = classify(X_train_ngr, y_train_ngr, X_test_ngr, clf_ngr_dtr)[1]\n"
   ]
  },
  {
   "cell_type": "code",
   "execution_count": null,
   "id": "bae2fc89",
   "metadata": {},
   "outputs": [],
   "source": []
  },
  {
   "cell_type": "code",
   "execution_count": 47,
   "id": "a7295546",
   "metadata": {},
   "outputs": [],
   "source": [
    "# from mlxtend.evaluate import bias_variance_decomp\n",
    "# from sklearn import preprocessing\n",
    "# kf = KFold(n_splits=10,shuffle=True,random_state=0)\n",
    "# yy_train=np.copy(y_train_ngr)\n",
    "# yy_test=np.copy(y_test_ngr)\n",
    "# lab_encod = preprocessing.LabelEncoder()\n",
    "# mse, bias, var = bias_variance_decomp(clf_ngr_svm, X_train_ngr.values,lab_encod.fit_transform( yy_train), X_test_ngr.values,lab_encod.fit_transform(yy_test), num_rounds=200, random_seed=1)\n",
    "# print(\"MSE:\",mse)\n",
    "# print(\"Bias:\",bias)\n",
    "# print(\"Varience:\",var)\n",
    "# plot_learning_curve(clf_ngr_svm, \"SVM Learning Curve\", X_train_ngr, y_train_ngr, (0.7, 1.01),kf, n_jobs=4)\n",
    "\n",
    "# plt.show()"
   ]
  },
  {
   "cell_type": "markdown",
   "id": "8058f03e",
   "metadata": {},
   "source": [
    "## Choosing Best model from The whol combination"
   ]
  },
  {
   "cell_type": "code",
   "execution_count": 48,
   "id": "cd45cdd0",
   "metadata": {},
   "outputs": [
    {
     "data": {
      "text/html": [
       "<div>\n",
       "<style scoped>\n",
       "    .dataframe tbody tr th:only-of-type {\n",
       "        vertical-align: middle;\n",
       "    }\n",
       "\n",
       "    .dataframe tbody tr th {\n",
       "        vertical-align: top;\n",
       "    }\n",
       "\n",
       "    .dataframe thead th {\n",
       "        text-align: right;\n",
       "    }\n",
       "</style>\n",
       "<table border=\"1\" class=\"dataframe\">\n",
       "  <thead>\n",
       "    <tr style=\"text-align: right;\">\n",
       "      <th></th>\n",
       "      <th>Accuraccy</th>\n",
       "      <th>Precision</th>\n",
       "      <th>Recall</th>\n",
       "      <th>F1-score</th>\n",
       "    </tr>\n",
       "  </thead>\n",
       "  <tbody>\n",
       "    <tr>\n",
       "      <th>BOW + SVM</th>\n",
       "      <td>0.98</td>\n",
       "      <td>0.98</td>\n",
       "      <td>0.98</td>\n",
       "      <td>0.98</td>\n",
       "    </tr>\n",
       "    <tr>\n",
       "      <th>BOW + KNN</th>\n",
       "      <td>0.87</td>\n",
       "      <td>0.879</td>\n",
       "      <td>0.87</td>\n",
       "      <td>0.869</td>\n",
       "    </tr>\n",
       "    <tr>\n",
       "      <th>BOW + Dec.Tree</th>\n",
       "      <td>0.81</td>\n",
       "      <td>0.813</td>\n",
       "      <td>0.81</td>\n",
       "      <td>0.808</td>\n",
       "    </tr>\n",
       "    <tr>\n",
       "      <th>TFIDF + SVM</th>\n",
       "      <td>0.98</td>\n",
       "      <td>0.98</td>\n",
       "      <td>0.98</td>\n",
       "      <td>0.98</td>\n",
       "    </tr>\n",
       "    <tr>\n",
       "      <th>TFIDF + KNN</th>\n",
       "      <td>0.948</td>\n",
       "      <td>0.951</td>\n",
       "      <td>0.948</td>\n",
       "      <td>0.948</td>\n",
       "    </tr>\n",
       "    <tr>\n",
       "      <th>TFIDF + Dec.Tree</th>\n",
       "      <td>0.736</td>\n",
       "      <td>0.739</td>\n",
       "      <td>0.736</td>\n",
       "      <td>0.733</td>\n",
       "    </tr>\n",
       "    <tr>\n",
       "      <th>N-gram+SVM</th>\n",
       "      <td>0.848</td>\n",
       "      <td>0.88</td>\n",
       "      <td>0.848</td>\n",
       "      <td>0.85</td>\n",
       "    </tr>\n",
       "    <tr>\n",
       "      <th>N-gram+KNN</th>\n",
       "      <td>0.84</td>\n",
       "      <td>0.848</td>\n",
       "      <td>0.84</td>\n",
       "      <td>0.841</td>\n",
       "    </tr>\n",
       "    <tr>\n",
       "      <th>N-gram+Dec.Tree</th>\n",
       "      <td>0.584</td>\n",
       "      <td>0.683</td>\n",
       "      <td>0.584</td>\n",
       "      <td>0.575</td>\n",
       "    </tr>\n",
       "  </tbody>\n",
       "</table>\n",
       "</div>"
      ],
      "text/plain": [
       "                 Accuraccy Precision Recall F1-score\n",
       "BOW + SVM             0.98      0.98   0.98     0.98\n",
       "BOW + KNN             0.87     0.879   0.87    0.869\n",
       "BOW + Dec.Tree        0.81     0.813   0.81    0.808\n",
       "TFIDF + SVM           0.98      0.98   0.98     0.98\n",
       "TFIDF + KNN          0.948     0.951  0.948    0.948\n",
       "TFIDF + Dec.Tree     0.736     0.739  0.736    0.733\n",
       "N-gram+SVM           0.848      0.88  0.848     0.85\n",
       "N-gram+KNN            0.84     0.848   0.84    0.841\n",
       "N-gram+Dec.Tree      0.584     0.683  0.584    0.575"
      ]
     },
     "execution_count": 48,
     "metadata": {},
     "output_type": "execute_result"
    }
   ],
   "source": [
    "cols = ['Accuraccy', 'Precision', 'Recall', 'F1-score']\n",
    "\n",
    "indices = ['BOW + SVM','BOW + KNN','BOW + Dec.Tree','TFIDF + SVM', 'TFIDF + KNN', 'TFIDF + Dec.Tree',\n",
    "           'N-gram+SVM', 'N-gram+KNN', 'N-gram+Dec.Tree']\n",
    "\n",
    "df_metrics = pd.DataFrame(columns=cols, index=indices)\n",
    "\n",
    "clf_lst = [clf_bow_svm, clf_bow_knn, clf_bow_dtr, clf_tf_svm, clf_tf_knn, clf_tf_dtr\n",
    "           ,clf_ngr_svm, clf_ngr_knn, clf_ngr_dtr]\n",
    "\n",
    "clf_pred = [pred_bow_svm, pred_bow_knn, pred_bow_dtr, pred_tf_svm, pred_tf_knn, pred_tf_dtr\n",
    "            ,pred_ngr_svm, pred_ngr_knn, pred_ngr_dtr]\n",
    "\n",
    "y_test_chosen = [y_test_bow, y_test_bow, y_test_bow, y_test_tf, y_test_tf, y_test_tf,\n",
    "                 y_test_ngr, y_test_ngr, y_test_ngr]\n",
    "\n",
    "i = 0\n",
    "for p in clf_pred:\n",
    "    #print(p.shape, y_test_chosen[i].shape, i)\n",
    "    acc = round(accuracy_score(p, y_test_chosen[i]), 3)\n",
    "    recall = round(recall_score(p, y_test_chosen[i], average='weighted'), 3)\n",
    "    precision = round(precision_score(p, y_test_chosen[i], average='weighted'), 3)\n",
    "    f1 = round(f1_score(p, y_test_chosen[i], average='weighted'), 3)\n",
    "    s = np.array((acc, precision, recall, f1))\n",
    "    #print(s)    \n",
    "    df_metrics.iloc[i, :] = s\n",
    "    #row.append(s)\n",
    "    i += 1\n",
    "df_metrics"
   ]
  },
  {
   "cell_type": "markdown",
   "id": "056af09b",
   "metadata": {},
   "source": [
    "### LDA: A more advanced preprocessing."
   ]
  },
  {
   "cell_type": "code",
   "execution_count": 49,
   "id": "f0305b77",
   "metadata": {},
   "outputs": [],
   "source": [
    "from sklearn.decomposition import LatentDirichletAllocation\n",
    "from sklearn.feature_extraction.text import TfidfVectorizer,CountVectorizer\n",
    "def sk_Lda():\n",
    "    model=LatentDirichletAllocation(n_components=10,learning_method='online',random_state=42,max_iter=50)\n",
    "    return model"
   ]
  },
  {
   "cell_type": "code",
   "execution_count": 50,
   "id": "c25419ad",
   "metadata": {},
   "outputs": [
    {
     "data": {
      "text/plain": [
       "(1000, 10)"
      ]
     },
     "execution_count": 50,
     "metadata": {},
     "output_type": "execute_result"
    }
   ],
   "source": [
    "vect =TfidfVectorizer(stop_words=stop_words,max_features=1000)\n",
    "vect_text=vect.fit_transform(df['Text'])\n",
    "#print(vect_text)\n",
    "lda_model =sk_Lda()\n",
    "lda_top=lda_model.fit_transform(vect_text)#lda_top enters the training phase\n",
    "lda_top.shape"
   ]
  },
  {
   "cell_type": "code",
   "execution_count": 51,
   "id": "3316f481",
   "metadata": {},
   "outputs": [],
   "source": [
    "X_train_lda, X_test_lda, y_train_lda, y_test_lda = train_test_split(lda_top, y_encoded)\n",
    "#clf_bow_svm = SVC(kernel='linear', C =200, probability=True)\n",
    "clf_svm_lda =KNeighborsClassifier()\n",
    "clf_svm_lda = SVC()\n",
    "clf_lda, pred_lda = classify(X_train_lda, y_train_lda, X_test_lda, clf_svm_lda)\n",
    "#ModelAssemesment(y_test_lda, pred_lda, clf_lda)"
   ]
  },
  {
   "cell_type": "code",
   "execution_count": 52,
   "id": "a9c6e603",
   "metadata": {},
   "outputs": [],
   "source": [
    "def doc_relation_rate(lda_top , num):\n",
    "    print(\"Paragraph \",num,\": \")\n",
    "    for i,topic in enumerate(lda_top[num]):\n",
    "        print(\"Author \",i,\": \",topic*100,\"%\")"
   ]
  },
  {
   "cell_type": "code",
   "execution_count": 53,
   "id": "b6156704",
   "metadata": {},
   "outputs": [],
   "source": [
    "def topic_Modeling():\n",
    "    vocab = vect.get_feature_names()\n",
    "\n",
    "    for i, comp in enumerate(lda_model.components_):\n",
    "        vocab_comp = zip(vocab, comp)\n",
    "        sorted_words = sorted(vocab_comp, key= lambda x:x[1], reverse=True)[:20]\n",
    "        print(\"Author \"+str(i)+\": \")\n",
    "        for t in sorted_words:\n",
    "            print(t[0],end=\" \")\n",
    "        print(\"\\n\")"
   ]
  },
  {
   "cell_type": "code",
   "execution_count": 54,
   "id": "4b217203",
   "metadata": {},
   "outputs": [
    {
     "name": "stdout",
     "output_type": "stream",
     "text": [
      "Paragraph  0 : \n",
      "Author  0 :  1.8423016798374492 %\n",
      "Author  1 :  1.8423016798316452 %\n",
      "Author  2 :  1.8423016798440432 %\n",
      "Author  3 :  83.4192848814788 %\n",
      "Author  4 :  1.8423016798292902 %\n",
      "Author  5 :  1.842301679831816 %\n",
      "Author  6 :  1.8423016798350664 %\n",
      "Author  7 :  1.842301679835454 %\n",
      "Author  8 :  1.842301679842049 %\n",
      "Author  9 :  1.8423016798343856 %\n"
     ]
    }
   ],
   "source": [
    "doc_relation_rate(lda_top,0)"
   ]
  },
  {
   "cell_type": "code",
   "execution_count": 55,
   "id": "24e1ed06",
   "metadata": {},
   "outputs": [
    {
     "name": "stdout",
     "output_type": "stream",
     "text": [
      "Author 0: \n",
      "egypt amenemhat reign thebes hundred pyramid great power tribes land one made time slaves south life north works syria place \n",
      "\n",
      "Author 1: \n",
      "river nile egypt monarch waters zanzibar period land sea africa numerous year large two seem either bear kings heads country \n",
      "\n",
      "Author 2: \n",
      "egypt nile name expedition city religion claridge son years thothmes set great ancient world life served egyptian men war england \n",
      "\n",
      "Author 3: \n",
      "would one said men could man time egypt great two upon like us thee first well made david day know \n",
      "\n",
      "Author 4: \n",
      "osiris good sun temple soul light memphis king monarch makes sea nature religion walls also flat upon god two green \n",
      "\n",
      "Author 5: \n",
      "thee heaven delta amenemhat spring used elder king entire monuments lower living god even season appeared tombs egypt spirit nile \n",
      "\n",
      "Author 6: \n",
      "egypt egyptian pyramid reign feet animal death sacred character native subjects art memphis great evil general egyptians ii considerable question \n",
      "\n",
      "Author 7: \n",
      "thothmes great elder thee expedition time iii pyramid egypt early asia man shall western one wife david woman coast pentaur \n",
      "\n",
      "Author 8: \n",
      "nile miles hundred would water box great river feet stream lake arabs height egypt men found year yards much within \n",
      "\n",
      "Author 9: \n",
      "negro pyramid head egypt kings feet time egyptian david names one even world either god another coming besides long family \n",
      "\n"
     ]
    }
   ],
   "source": [
    "topic_Modeling()"
   ]
  },
  {
   "cell_type": "markdown",
   "id": "6f649202",
   "metadata": {},
   "source": [
    "## LDA using pyLDAvis"
   ]
  },
  {
   "cell_type": "code",
   "execution_count": 56,
   "id": "ef58c4b4",
   "metadata": {},
   "outputs": [],
   "source": [
    "def towords(sentences):\n",
    "    for sentence in sentences:\n",
    "        yield(gensim.utils.simple_preprocess(str(sentence)))"
   ]
  },
  {
   "cell_type": "code",
   "execution_count": 57,
   "id": "f0dc6766",
   "metadata": {},
   "outputs": [],
   "source": [
    "data_words = list(towords(df['Text']))"
   ]
  },
  {
   "cell_type": "code",
   "execution_count": 58,
   "id": "bf992ac4",
   "metadata": {},
   "outputs": [],
   "source": [
    "id2word = corpora.Dictionary(data_words)\n",
    "texts = data_words\n",
    "corpus = [id2word.doc2bow(text) for text in texts]#TF"
   ]
  },
  {
   "cell_type": "code",
   "execution_count": 59,
   "id": "086e4a06",
   "metadata": {},
   "outputs": [],
   "source": [
    "\n",
    "def LDA_Model(corpus,id2word):\n",
    "    num_topics = 5\n",
    "    # Build LDA model\n",
    "    lda = gensim.models.LdaMulticore(corpus=corpus,id2word=id2word,num_topics=5,random_state=12345,chunksize=100,per_word_topics=True)\n",
    "    pprint(lda.print_topics())\n",
    "    doc_lda = lda[corpus]\n",
    "    return lda"
   ]
  },
  {
   "cell_type": "code",
   "execution_count": 60,
   "id": "d98e85e4",
   "metadata": {},
   "outputs": [
    {
     "name": "stdout",
     "output_type": "stream",
     "text": [
      "Model Perplexity:  2320.4172277393\n"
     ]
    }
   ],
   "source": [
    "lda_model.score(vect_text)\n",
    "print(\"Model Perplexity: \", lda_model.perplexity(vect_text))"
   ]
  },
  {
   "cell_type": "code",
   "execution_count": 61,
   "id": "02bd6e73",
   "metadata": {},
   "outputs": [
    {
     "name": "stdout",
     "output_type": "stream",
     "text": [
      "[(0,\n",
      "  '0.009*\"would\" + 0.007*\"one\" + 0.006*\"said\" + 0.003*\"man\" + 0.003*\"made\" + '\n",
      "  '0.003*\"upon\" + 0.003*\"two\" + 0.003*\"men\" + 0.003*\"time\" + 0.003*\"could\"'),\n",
      " (1,\n",
      "  '0.010*\"one\" + 0.008*\"would\" + 0.006*\"said\" + 0.005*\"could\" + 0.004*\"time\" + '\n",
      "  '0.004*\"man\" + 0.004*\"like\" + 0.003*\"may\" + 0.003*\"know\" + 0.003*\"go\"'),\n",
      " (2,\n",
      "  '0.007*\"one\" + 0.007*\"would\" + 0.006*\"men\" + 0.006*\"said\" + 0.004*\"two\" + '\n",
      "  '0.004*\"thee\" + 0.004*\"man\" + 0.004*\"could\" + 0.003*\"upon\" + 0.003*\"egypt\"'),\n",
      " (3,\n",
      "  '0.006*\"one\" + 0.005*\"would\" + 0.004*\"great\" + 0.004*\"said\" + 0.004*\"men\" + '\n",
      "  '0.004*\"egypt\" + 0.004*\"time\" + 0.003*\"two\" + 0.003*\"first\" + 0.003*\"made\"'),\n",
      " (4,\n",
      "  '0.008*\"would\" + 0.007*\"said\" + 0.006*\"one\" + 0.005*\"could\" + 0.004*\"time\" + '\n",
      "  '0.003*\"great\" + 0.003*\"life\" + 0.003*\"egypt\" + 0.003*\"day\" + 0.003*\"upon\"')]\n"
     ]
    },
    {
     "name": "stderr",
     "output_type": "stream",
     "text": [
      "/home/ahmed/anaconda3/lib/python3.9/site-packages/past/builtins/misc.py:45: DeprecationWarning: the imp module is deprecated in favour of importlib; see the module's documentation for alternative uses\n",
      "  from imp import reload\n",
      "/home/ahmed/anaconda3/lib/python3.9/site-packages/past/builtins/misc.py:45: DeprecationWarning: the imp module is deprecated in favour of importlib; see the module's documentation for alternative uses\n",
      "  from imp import reload\n",
      "/home/ahmed/anaconda3/lib/python3.9/site-packages/past/builtins/misc.py:45: DeprecationWarning: the imp module is deprecated in favour of importlib; see the module's documentation for alternative uses\n",
      "  from imp import reload\n",
      "/home/ahmed/anaconda3/lib/python3.9/site-packages/past/builtins/misc.py:45: DeprecationWarning: the imp module is deprecated in favour of importlib; see the module's documentation for alternative uses\n",
      "  from imp import reload\n"
     ]
    },
    {
     "data": {
      "text/html": [
       "\n",
       "<link rel=\"stylesheet\" type=\"text/css\" href=\"https://cdn.jsdelivr.net/gh/bmabey/pyLDAvis@3.3.1/pyLDAvis/js/ldavis.v1.0.0.css\">\n",
       "\n",
       "\n",
       "<div id=\"ldavis_el255251399063255059683354238111\"></div>\n",
       "<script type=\"text/javascript\">\n",
       "\n",
       "var ldavis_el255251399063255059683354238111_data = {\"mdsDat\": {\"x\": [0.008219044991998714, -0.02430737657054869, -0.0004782437361594097, 0.016225238576403036, 0.000341336738306346], \"y\": [0.010850434645946165, 0.0061389178505065175, 0.003518025661282422, 0.004326592634377528, -0.024833970792112622], \"topics\": [1, 2, 3, 4, 5], \"cluster\": [1, 1, 1, 1, 1], \"Freq\": [24.30028271876413, 21.53808586864204, 19.564506450350496, 17.615468294014654, 16.981656668228677]}, \"tinfo\": {\"Term\": [\"would\", \"priest\", \"feet\", \"could\", \"ameni\", \"princess\", \"thee\", \"life\", \"said\", \"great\", \"hundred\", \"men\", \"mena\", \"soul\", \"found\", \"david\", \"temple\", \"like\", \"woman\", \"fell\", \"think\", \"felt\", \"side\", \"cried\", \"room\", \"bent\", \"gifts\", \"horses\", \"father\", \"round\", \"grievance\", \"squares\", \"surrender\", \"retreated\", \"paul\", \"item\", \"compare\", \"morality\", \"incessant\", \"dreadfully\", \"watcher\", \"thirteen\", \"ravine\", \"weakened\", \"majority\", \"acres\", \"suppressed\", \"wretched\", \"urged\", \"harder\", \"st\", \"sharp\", \"descent\", \"reproof\", \"crowns\", \"enlist\", \"usurped\", \"granted\", \"fining\", \"strasburg\", \"guns\", \"mole\", \"meat\", \"london\", \"request\", \"rid\", \"drank\", \"owing\", \"men\", \"shall\", \"thee\", \"woman\", \"order\", \"two\", \"natives\", \"news\", \"rupert\", \"letter\", \"three\", \"gave\", \"square\", \"upon\", \"one\", \"place\", \"never\", \"found\", \"might\", \"egypt\", \"said\", \"man\", \"would\", \"well\", \"must\", \"good\", \"come\", \"know\", \"work\", \"day\", \"us\", \"could\", \"say\", \"first\", \"last\", \"go\", \"great\", \"little\", \"see\", \"time\", \"though\", \"way\", \"heavens\", \"desires\", \"offerings\", \"endured\", \"nevertheless\", \"ceremonies\", \"lifted\", \"november\", \"canal\", \"flanks\", \"firmly\", \"grasped\", \"snake\", \"manes\", \"hymns\", \"nursed\", \"striking\", \"inspired\", \"feels\", \"reflect\", \"release\", \"january\", \"guiding\", \"forgive\", \"sanctuary\", \"pits\", \"besieged\", \"spell\", \"communicate\", \"supports\", \"bronze\", \"lap\", \"ought\", \"cried\", \"fathers\", \"fell\", \"bend\", \"ameni\", \"gaze\", \"princess\", \"think\", \"el\", \"continue\", \"like\", \"temple\", \"one\", \"may\", \"priest\", \"master\", \"man\", \"train\", \"time\", \"even\", \"clinton\", \"felt\", \"could\", \"would\", \"go\", \"nothing\", \"said\", \"know\", \"father\", \"see\", \"head\", \"made\", \"hand\", \"years\", \"wife\", \"say\", \"son\", \"well\", \"much\", \"us\", \"first\", \"old\", \"long\", \"must\", \"egypt\", \"day\", \"upon\", \"life\", \"great\", \"men\", \"two\", \"extensive\", \"remainder\", \"interrupted\", \"qurnah\", \"retiring\", \"kinds\", \"rejoices\", \"inclose\", \"noon\", \"sayest\", \"university\", \"ashore\", \"consented\", \"image\", \"tawny\", \"caste\", \"grows\", \"commands\", \"turin\", \"embarking\", \"violated\", \"courtier\", \"overhead\", \"steps\", \"endangering\", \"calendars\", \"dhow\", \"minister\", \"summers\", \"brethren\", \"chariots\", \"horses\", \"precious\", \"metal\", \"wonderfully\", \"priests\", \"brave\", \"wore\", \"derived\", \"geese\", \"contrary\", \"satisfaction\", \"tongue\", \"ameni\", \"hear\", \"great\", \"pyramids\", \"thou\", \"night\", \"come\", \"king\", \"egypt\", \"mother\", \"round\", \"princess\", \"first\", \"might\", \"men\", \"made\", \"hand\", \"two\", \"time\", \"one\", \"good\", \"well\", \"way\", \"us\", \"like\", \"little\", \"would\", \"upon\", \"said\", \"david\", \"nile\", \"man\", \"though\", \"know\", \"much\", \"even\", \"came\", \"could\", \"must\", \"old\", \"tramp\", \"sculpture\", \"conceal\", \"ants\", \"tread\", \"fewer\", \"surprises\", \"readiness\", \"hyksos\", \"tablets\", \"penetrated\", \"mix\", \"grapes\", \"conveyed\", \"guards\", \"pluck\", \"tools\", \"grinding\", \"marvellous\", \"dizzy\", \"veils\", \"germantown\", \"colonnade\", \"solar\", \"hardest\", \"philadelphy\", \"roots\", \"restless\", \"ferry\", \"necessity\", \"apparent\", \"steadily\", \"altar\", \"lot\", \"baker\", \"limestone\", \"joined\", \"corporal\", \"seriously\", \"bust\", \"life\", \"could\", \"feet\", \"spring\", \"officers\", \"said\", \"found\", \"would\", \"day\", \"much\", \"david\", \"nahoum\", \"got\", \"kaid\", \"great\", \"eyes\", \"fight\", \"hundred\", \"time\", \"one\", \"egypt\", \"came\", \"give\", \"first\", \"upon\", \"side\", \"thee\", \"another\", \"though\", \"room\", \"went\", \"good\", \"country\", \"men\", \"us\", \"little\", \"like\", \"two\", \"man\", \"well\", \"made\", \"shall\", \"girdle\", \"retired\", \"jackal\", \"hymn\", \"sceptre\", \"resembles\", \"spacious\", \"desperate\", \"fleet\", \"pricked\", \"instruction\", \"scales\", \"drooping\", \"inches\", \"symbolized\", \"assessors\", \"prayers\", \"crushed\", \"fit\", \"hastily\", \"prohibited\", \"heated\", \"invoked\", \"grades\", \"bowl\", \"doubts\", \"quit\", \"submit\", \"continual\", \"sweet\", \"transport\", \"gifts\", \"officer\", \"antef\", \"descended\", \"wide\", \"swift\", \"midst\", \"priest\", \"chariot\", \"soul\", \"west\", \"horse\", \"heat\", \"treatment\", \"would\", \"mena\", \"daughter\", \"said\", \"girl\", \"one\", \"long\", \"side\", \"made\", \"room\", \"though\", \"david\", \"feet\", \"towards\", \"upon\", \"man\", \"old\", \"father\", \"two\", \"high\", \"thee\", \"place\", \"still\", \"hand\", \"eyes\", \"many\", \"came\", \"make\", \"time\", \"first\", \"well\", \"men\", \"us\", \"could\", \"great\", \"way\", \"day\", \"go\", \"life\", \"know\"], \"Freq\": [708.0, 55.0, 148.0, 374.0, 46.0, 59.0, 234.0, 199.0, 576.0, 297.0, 112.0, 367.0, 31.0, 68.0, 172.0, 218.0, 73.0, 259.0, 96.0, 56.0, 137.0, 77.0, 106.0, 31.0, 101.0, 59.0, 23.0, 35.0, 161.0, 83.0, 1.8916360419832616, 4.462092819149186, 3.7198878020668835, 2.473586549506844, 1.8513642587145365, 1.811582337086084, 2.3635400326304103, 2.30510628469739, 2.8457793268897555, 1.6549915475889125, 2.320767023596429, 3.3460831079383313, 5.488077827749687, 2.7559577031857874, 3.3086787988277697, 3.3366715484646585, 2.1977759040462743, 2.6441525229800544, 3.1616998222650023, 3.1245448587334117, 6.791465090665761, 12.076412447646726, 1.5558701461049602, 1.5666513403594382, 1.5540980619088047, 9.015357825024982, 1.5493719742813299, 2.567186500411704, 1.0559726111643326, 1.0474251082897421, 18.483859211325214, 4.428226321178214, 7.930946132105595, 12.310958342281523, 5.3715479726393065, 3.0633986829724944, 6.0622274564127645, 5.4647385871050345, 140.44545558855907, 77.28754556927719, 90.05703418497342, 39.9912843259727, 22.557170002114386, 105.63619116619701, 15.518319485400369, 17.93204261147324, 33.71710535745924, 26.047269253666496, 46.43989783283084, 39.40164489787266, 19.625895868359148, 84.69512380746012, 179.52445437085768, 57.08384041377154, 54.97731810460478, 54.65610448997736, 56.02749104708827, 81.74048747631429, 140.3830471449522, 88.59159419293017, 158.3996595830199, 72.73990602569862, 59.34203264564822, 58.67494492672474, 56.518061874220024, 61.33000490606194, 38.18169092603672, 61.628004659195604, 65.82407965093084, 86.69727415416591, 47.30498430685385, 66.96151930788561, 48.220762101356335, 54.52497555717245, 66.94531820250523, 53.14318005827199, 52.48368148637532, 69.61956295783351, 50.19169692447608, 49.19281712239639, 5.063148122335257, 5.962345546647844, 9.401770099144791, 2.3960052229461146, 5.880137575311481, 2.920142238536922, 7.024881134498183, 2.4516243235459676, 5.325808500853709, 2.2918143762819105, 2.8415091256732383, 1.7432111795608307, 1.7008764972126715, 3.7905201054688393, 3.3128673627615535, 1.5918043409518186, 3.2496778263207817, 1.6299532772345278, 2.079871598016094, 2.5504081185115206, 2.6275923493751345, 1.6268669097116393, 1.179849952831477, 8.935830809081043, 5.4938644132567624, 3.0647236643492346, 2.0450555442341396, 4.576848416791646, 2.0399583970790918, 1.5330595869500643, 3.4952724816032377, 4.3870835345917145, 13.797900655165481, 16.732585242669725, 5.3242370656932145, 26.868606229311542, 3.4682694657039117, 21.12473399485745, 7.676004354144594, 25.988347102962056, 54.11959084054495, 9.577880399332612, 6.068451227749648, 88.00447600550798, 29.621307355974338, 208.00450381286484, 68.5551673624436, 22.26424861919935, 28.634924392499283, 91.96485322615149, 8.757286975638701, 94.20660377555382, 54.13089014802568, 33.51264160072167, 28.203862824091317, 98.73211666121496, 162.53727253019224, 60.50503685221397, 41.2567141401071, 132.15576870268853, 61.76155891082488, 48.41382622176776, 54.60862146249099, 44.8584460322407, 59.825746126868026, 48.50510719642918, 35.18677474447837, 29.963557168953148, 43.17327152175472, 33.64956055843466, 57.13378629075153, 48.119934038986806, 54.059838740259046, 55.052354683348526, 43.485364805326874, 43.17883603000431, 44.656766415961336, 52.12574389179238, 45.66137802729813, 50.02091730866133, 43.0241316818374, 47.884446654314324, 50.15745561594501, 45.942793891402445, 3.9894942750305407, 2.28544243079764, 9.77918311559392, 2.218890965778293, 1.6762943666288572, 4.442214677065764, 2.1221186916810417, 1.6014552115325005, 5.149716859149076, 1.5308553011871593, 2.501559887421201, 2.507709259053857, 1.9862740506795216, 7.209846779661581, 1.4821474211438814, 1.9421154999967762, 4.32873167180658, 3.387573840944014, 1.8843618504918282, 1.4279855494886469, 1.402450842533474, 1.9540669086903106, 1.415892391892917, 7.617592259703721, 1.4085771817467168, 1.0362975045145701, 1.4396322762389469, 3.201940217941047, 1.3835080993198188, 2.3199970312864995, 4.109328825381682, 18.07951998131786, 3.9629546721468647, 3.984697276073595, 2.650688831758264, 16.326618650314913, 7.60247048113049, 9.720091595306966, 5.297060080104419, 3.0073998730454643, 5.767341706714749, 6.905492408614193, 7.35867943040569, 17.54995631934641, 19.5361004216843, 83.2424713310346, 10.239127451150258, 43.57265142899272, 33.95539816461457, 56.18117334230089, 37.81158932660312, 74.92136889092843, 25.474636130534638, 26.7094536123634, 20.32198704534857, 65.13654652913925, 46.00015696968278, 79.34676449915577, 57.80056284673283, 44.90934158624006, 65.67734091255727, 71.31617309297668, 122.95987109327017, 46.73434633274453, 56.66366442600744, 45.47443090687689, 53.67495948440379, 54.12785078130405, 44.23984773015427, 98.52241267532783, 55.182000827846686, 81.73947914379484, 45.05794561889517, 33.11568051151714, 55.296760284102774, 42.62355196304607, 42.84626010383229, 40.35899993665684, 37.489961209697015, 38.734537612936705, 50.76054063547971, 38.690470054528184, 37.90011571019933, 3.7789394413715347, 2.3917915488511245, 4.284339056096211, 2.1742263590580184, 3.177052760553808, 1.5593089779436233, 1.5235679687039883, 2.4242225582128607, 2.531581918447911, 1.4744634286118377, 2.381891888002711, 1.9321379578865974, 2.3702535715352533, 2.838520049214589, 1.877260087768023, 3.6995785555648517, 1.4122301312207957, 2.319720164264501, 1.389335101319334, 1.4197615746526053, 1.345399419759488, 1.3929792118706026, 2.246508450988844, 1.752744080449571, 1.3420782828591435, 1.3640235935706708, 3.039283440501527, 2.2249205490895956, 1.3282548057807977, 2.6585595917621085, 4.3084331720809885, 6.314594949799509, 2.199960817636112, 6.511162115847729, 7.6027987186542045, 6.199016210976064, 9.305206017884478, 9.009004232778912, 3.527260911768638, 2.63276906403653, 57.18214924925922, 94.73320267783848, 42.042144009709105, 7.724075516593752, 13.180918503603586, 116.7140207771575, 43.82449362412478, 134.78121033383533, 53.89927250142683, 48.21282661148942, 51.35011815372421, 35.54443541697572, 27.776622893061617, 30.468437633846438, 60.75765062179232, 37.90706947299362, 18.080674826706723, 28.595685095898602, 63.12958345149358, 109.49224084631989, 54.50090725511613, 39.47724319238586, 32.7950604478157, 51.059472078666246, 52.32537927256125, 26.2591326663309, 44.445532911266966, 30.1008104114561, 40.748016881054355, 25.302721021989008, 32.59091959445743, 38.00830731123613, 29.35037274876468, 52.29042899191525, 40.80332205440193, 35.60468901261824, 40.34756334901133, 42.744156362665805, 41.792355189592904, 36.248082223985136, 35.25622258930451, 32.83194012159159, 5.320433408097717, 5.953929873004817, 2.3089397649408863, 4.540036114532284, 3.2582895231645237, 3.2433137311026052, 2.696953141144698, 6.844122327865516, 4.3315967434613984, 1.5435531872895194, 2.5171162815768797, 1.533939255481884, 1.5596981262604368, 2.0001467664267163, 1.4827021388003392, 1.492357411563697, 5.669443875585395, 2.868772323419119, 5.136488614995304, 2.8415539317948064, 1.8711169541950914, 2.299874125271385, 1.4328347035145066, 1.3566330794334702, 2.2076939132890248, 2.2335513853321216, 3.008391467201753, 1.7684210839469945, 1.770331529724724, 6.967657988784545, 3.821910887680341, 11.903727131307445, 9.679923326305488, 4.973080527825752, 5.096482910439766, 13.695430824488136, 7.038367559452232, 5.076196965169677, 22.059129202353336, 9.297035488176233, 24.808939038397195, 12.285290084360174, 9.39959166301574, 9.403906918358135, 4.234534102905297, 153.9811053339858, 12.086668881758776, 12.56041105954716, 105.56024019165203, 18.90120540040422, 114.73386293112387, 41.005062801920815, 27.731388705538027, 49.01807436739525, 25.80670386859951, 41.57369320940014, 42.30658962143463, 32.06197993823158, 22.4028628362091, 48.76966335178011, 51.11472573317874, 34.58811718656462, 32.09669745581811, 47.45897883184166, 29.022215745275844, 40.12264195311259, 34.15581370192236, 30.18615986414533, 33.62531471113138, 30.72265539141532, 31.45720445443201, 33.03613969974557, 27.574452020512012, 44.98573233841907, 40.14322802138064, 38.746905773366045, 45.18563005100851, 36.530224953332144, 43.20412324278494, 39.066505174300225, 32.502106365754905, 33.71276897314255, 32.48544559038124, 31.69781227210016, 31.439976999450355], \"Total\": [708.0, 55.0, 148.0, 374.0, 46.0, 59.0, 234.0, 199.0, 576.0, 297.0, 112.0, 367.0, 31.0, 68.0, 172.0, 218.0, 73.0, 259.0, 96.0, 56.0, 137.0, 77.0, 106.0, 31.0, 101.0, 59.0, 23.0, 35.0, 161.0, 83.0, 2.7458342675564933, 6.566204795887458, 5.521569432489073, 3.7212941279175062, 2.813450326496953, 2.835855714524402, 3.728185307240551, 3.7244565747369984, 4.669587569909132, 2.7233270955178375, 3.8296125096473337, 5.585710093820657, 9.1678529973344, 4.621336836562431, 5.559049413911839, 5.678867371091901, 3.7780383714091106, 4.612662203796114, 5.5614973301006865, 5.4984708762409715, 11.98568808906284, 21.401851663629937, 2.7642119527814635, 2.795094322287582, 2.7790524418514106, 16.133922150396245, 2.7845662003560316, 4.630382399913312, 1.9106456096792117, 1.8964288772523592, 33.51156627324465, 8.089073730478678, 14.596986015611332, 22.92695184068838, 10.025685008408427, 5.597211286455398, 11.399146948139952, 10.262197818313522, 367.4257347465836, 197.1331483981451, 234.805506224537, 96.41298495468624, 50.7549345645481, 307.45946116466416, 34.0518108493023, 40.76361261254995, 87.50536524891747, 65.38735940187227, 134.46113902724267, 113.10943542006491, 48.66488581567437, 290.99308456830954, 734.7149330544365, 180.1836910559619, 173.02689610170265, 172.44356344576406, 180.53860300529516, 291.62560958785747, 576.5525559602451, 328.7602886259561, 708.2216604563612, 261.53234473980876, 201.13111727703014, 199.64697937239535, 193.0467188954562, 220.37928846708323, 116.37782982736336, 225.1196263103105, 250.89242488332775, 374.127257371484, 159.80820040957997, 278.35312062042027, 167.8695281124733, 205.40571090593187, 297.8963919839467, 199.77752196064523, 195.75901096261936, 343.2576556162767, 210.03826092614352, 193.7718122610117, 6.366347074385327, 8.068182636669803, 13.236319201434657, 3.6140626034885557, 8.932964087514112, 4.450954233422357, 10.807999466595481, 3.799632959084145, 8.2643510273912, 3.5876009652966565, 4.47405154526393, 2.7499811835479977, 2.7408432978064643, 6.231006788687174, 5.504960187091495, 2.689798865774184, 5.504715699010189, 2.7811276980462325, 3.5741631995119962, 4.400896006606784, 4.544719530906831, 2.82341754532087, 2.0510097808995487, 15.54982669806697, 9.562534348265594, 5.379888660023424, 3.593011250421006, 8.043961060542896, 3.6120279480739574, 2.7229376221781973, 6.219455567721742, 7.86551728249239, 25.72782693297138, 31.48684679081481, 9.639887941660273, 56.18010665476003, 6.27288468421713, 46.372010793652194, 15.063242460500815, 59.420318602327015, 137.26345917787276, 19.660128698731985, 11.761594636525958, 259.3929897515619, 73.73068649133349, 734.7149330544365, 207.5127482446979, 55.6520658923873, 76.0664806028575, 328.7602886259561, 18.221419479317426, 343.2576556162767, 173.05436840054526, 96.11859030470845, 77.83469125279228, 374.127257371484, 708.2216604563612, 205.40571090593187, 127.33048439268754, 576.5525559602451, 220.37928846708323, 161.43021382114864, 195.75901096261936, 157.9690152297256, 244.2049498173062, 180.19247527965948, 112.21396468348331, 89.06842807898775, 159.80820040957997, 107.67935838777879, 261.53234473980876, 200.9141220951389, 250.89242488332775, 278.35312062042027, 182.0176778317566, 182.0305795675819, 201.13111727703014, 291.62560958785747, 225.1196263103105, 290.99308456830954, 199.85556467158722, 297.8963919839467, 367.4257347465836, 307.45946116466416, 5.877068289327803, 3.4469812414293686, 14.876482023790922, 3.4150677565876277, 2.603961702415232, 6.974498094554434, 3.4558236283074337, 2.613753319527394, 8.695595665064806, 2.6214585587660393, 4.336243565473721, 4.398927524525963, 3.48445255710471, 12.684459318715586, 2.6122931558494846, 3.425227596231168, 7.651069304521831, 6.154815176243307, 3.480398302058706, 2.6376058427929525, 2.594292284700676, 3.6206738672593897, 2.6412195041249396, 14.234256679135108, 2.6350778382400324, 1.944456270102592, 2.7261278648506737, 6.076451394121658, 2.6342838134207893, 4.419895750685718, 7.856519151187014, 35.7651808410713, 7.683129048125887, 7.778995140118733, 5.123247155856757, 35.54331630180187, 15.796611523536162, 21.194832576648, 10.999282033063222, 5.927832846102794, 12.5637076126101, 15.494429795437759, 16.731354384184897, 46.372010793652194, 53.02341445669751, 297.8963919839467, 24.755831046297075, 140.5730670452997, 104.52305762500194, 193.0467188954562, 123.37509088665935, 291.62560958785747, 77.96136810410701, 83.29251256891614, 59.420318602327015, 278.35312062042027, 180.53860300529516, 367.4257347465836, 244.2049498173062, 180.19247527965948, 307.45946116466416, 343.2576556162767, 734.7149330544365, 199.64697937239535, 261.53234473980876, 193.7718122610117, 250.89242488332775, 259.3929897515619, 199.77752196064523, 708.2216604563612, 290.99308456830954, 576.5525559602451, 218.86500279571305, 133.37236771519218, 328.7602886259561, 210.03826092614352, 220.37928846708323, 200.9141220951389, 173.05436840054526, 186.12423979772888, 374.127257371484, 201.13111727703014, 182.0176778317566, 4.94681925430978, 3.3758667393305344, 6.715312350081015, 3.4808952482992237, 5.128062656499544, 2.572817487540551, 2.586293465347355, 4.1951149050177445, 4.454326604574994, 2.5980502036081936, 4.221687846254265, 3.4259757114075295, 4.28381395073813, 5.1324117556491915, 3.417876996974189, 6.78218010678959, 2.6066074556842533, 4.306187589344672, 2.586798478493997, 2.658316487579151, 2.5602109543218923, 2.6624540390401332, 4.2967640651499925, 3.4080591574342085, 2.615517891209862, 2.6614555791859953, 5.930762890663299, 4.345021249626079, 2.6073861308753177, 5.260060280387752, 8.593075896451502, 13.038658996576341, 4.383655949473927, 13.741794629020317, 16.42412730919279, 13.199750467449789, 21.786111992142178, 21.25974094183834, 7.516164921637521, 5.374177396096135, 199.85556467158722, 374.127257371484, 148.81633293216223, 19.40755178484703, 37.481018996285414, 576.5525559602451, 172.44356344576406, 708.2216604563612, 225.1196263103105, 200.9141220951389, 218.86500279571305, 139.71892129031102, 103.22228930424751, 117.85909087754158, 297.8963919839467, 160.01248475962663, 59.975333470660686, 112.73896156265909, 343.2576556162767, 734.7149330544365, 291.62560958785747, 186.12423979772888, 142.97186685504073, 278.35312062042027, 290.99308456830954, 106.50643921586358, 234.805506224537, 131.36710256603996, 210.03826092614352, 101.10400765933345, 154.45540320479984, 199.64697937239535, 134.67006036444081, 367.4257347465836, 250.89242488332775, 199.77752196064523, 259.3929897515619, 307.45946116466416, 328.7602886259561, 261.53234473980876, 244.2049498173062, 197.1331483981451, 7.2945301041923205, 8.23711073765887, 3.343723191408082, 6.613448314379427, 4.938638044707696, 5.086613149603007, 4.235601384351028, 10.768608185168606, 6.891121694514897, 2.5597767822700908, 4.192385242313959, 2.5812167580297536, 2.650754920396687, 3.44924487067411, 2.566326450832524, 2.583161369935902, 9.983284248165145, 5.081927246194323, 9.180767811628389, 5.1439011263748, 3.39641073041449, 4.199196085176574, 2.6832994297813664, 2.550385414953308, 4.153455395656891, 4.225711280891002, 5.725168757326635, 3.3987981329481736, 3.4239033930148617, 13.526473959346795, 7.437161226355785, 23.604647792544352, 19.315110289046864, 9.798162763373973, 10.15313891511948, 30.08890994970914, 14.755586641599816, 10.301004025566693, 55.6520658923873, 20.762188204760303, 68.28556100036906, 29.94955498258462, 21.901275921828713, 22.02068085138453, 8.55423410257443, 708.2216604563612, 31.256329979832195, 34.24114932836738, 576.5525559602451, 61.11272452515392, 734.7149330544365, 182.0305795675819, 106.50643921586358, 244.2049498173062, 101.10400765933345, 210.03826092614352, 218.86500279571305, 148.81633293216223, 86.17501993619187, 290.99308456830954, 328.7602886259561, 182.0176778317566, 161.43021382114864, 307.45946116466416, 137.31347259432107, 234.805506224537, 180.1836910559619, 147.0995064684275, 180.19247527965948, 160.01248475962663, 169.75505520262945, 186.12423979772888, 134.74322769999446, 343.2576556162767, 278.35312062042027, 261.53234473980876, 367.4257347465836, 250.89242488332775, 374.127257371484, 297.8963919839467, 193.7718122610117, 225.1196263103105, 205.40571090593187, 199.85556467158722, 220.37928846708323], \"Category\": [\"Default\", \"Default\", \"Default\", \"Default\", \"Default\", \"Default\", \"Default\", \"Default\", \"Default\", \"Default\", \"Default\", \"Default\", \"Default\", \"Default\", \"Default\", \"Default\", \"Default\", \"Default\", \"Default\", \"Default\", \"Default\", \"Default\", \"Default\", \"Default\", \"Default\", \"Default\", \"Default\", \"Default\", \"Default\", \"Default\", \"Topic1\", \"Topic1\", \"Topic1\", \"Topic1\", \"Topic1\", \"Topic1\", \"Topic1\", \"Topic1\", \"Topic1\", \"Topic1\", \"Topic1\", \"Topic1\", \"Topic1\", \"Topic1\", \"Topic1\", \"Topic1\", \"Topic1\", \"Topic1\", \"Topic1\", \"Topic1\", \"Topic1\", \"Topic1\", \"Topic1\", \"Topic1\", \"Topic1\", \"Topic1\", \"Topic1\", \"Topic1\", \"Topic1\", \"Topic1\", \"Topic1\", \"Topic1\", \"Topic1\", \"Topic1\", \"Topic1\", \"Topic1\", \"Topic1\", \"Topic1\", \"Topic1\", \"Topic1\", \"Topic1\", \"Topic1\", \"Topic1\", \"Topic1\", \"Topic1\", \"Topic1\", \"Topic1\", \"Topic1\", \"Topic1\", \"Topic1\", \"Topic1\", \"Topic1\", \"Topic1\", \"Topic1\", \"Topic1\", \"Topic1\", \"Topic1\", \"Topic1\", \"Topic1\", \"Topic1\", \"Topic1\", \"Topic1\", \"Topic1\", \"Topic1\", \"Topic1\", \"Topic1\", \"Topic1\", \"Topic1\", \"Topic1\", \"Topic1\", \"Topic1\", \"Topic1\", \"Topic1\", \"Topic1\", \"Topic1\", \"Topic1\", \"Topic1\", \"Topic1\", \"Topic1\", \"Topic1\", \"Topic2\", \"Topic2\", \"Topic2\", \"Topic2\", \"Topic2\", \"Topic2\", \"Topic2\", \"Topic2\", \"Topic2\", \"Topic2\", \"Topic2\", \"Topic2\", \"Topic2\", \"Topic2\", \"Topic2\", \"Topic2\", \"Topic2\", \"Topic2\", \"Topic2\", \"Topic2\", \"Topic2\", \"Topic2\", \"Topic2\", \"Topic2\", \"Topic2\", \"Topic2\", \"Topic2\", \"Topic2\", \"Topic2\", \"Topic2\", \"Topic2\", \"Topic2\", \"Topic2\", \"Topic2\", \"Topic2\", \"Topic2\", \"Topic2\", \"Topic2\", \"Topic2\", \"Topic2\", \"Topic2\", \"Topic2\", \"Topic2\", \"Topic2\", \"Topic2\", \"Topic2\", \"Topic2\", \"Topic2\", \"Topic2\", \"Topic2\", \"Topic2\", \"Topic2\", \"Topic2\", \"Topic2\", \"Topic2\", \"Topic2\", \"Topic2\", \"Topic2\", \"Topic2\", \"Topic2\", \"Topic2\", \"Topic2\", \"Topic2\", \"Topic2\", \"Topic2\", \"Topic2\", \"Topic2\", \"Topic2\", \"Topic2\", \"Topic2\", \"Topic2\", \"Topic2\", \"Topic2\", \"Topic2\", \"Topic2\", \"Topic2\", \"Topic2\", \"Topic2\", \"Topic2\", \"Topic2\", \"Topic2\", \"Topic2\", \"Topic2\", \"Topic2\", \"Topic3\", \"Topic3\", \"Topic3\", \"Topic3\", \"Topic3\", \"Topic3\", \"Topic3\", \"Topic3\", \"Topic3\", \"Topic3\", \"Topic3\", \"Topic3\", \"Topic3\", \"Topic3\", \"Topic3\", \"Topic3\", \"Topic3\", \"Topic3\", \"Topic3\", \"Topic3\", \"Topic3\", \"Topic3\", \"Topic3\", \"Topic3\", \"Topic3\", \"Topic3\", \"Topic3\", \"Topic3\", \"Topic3\", \"Topic3\", \"Topic3\", \"Topic3\", \"Topic3\", \"Topic3\", \"Topic3\", \"Topic3\", \"Topic3\", \"Topic3\", \"Topic3\", \"Topic3\", \"Topic3\", \"Topic3\", \"Topic3\", \"Topic3\", \"Topic3\", \"Topic3\", \"Topic3\", \"Topic3\", \"Topic3\", \"Topic3\", \"Topic3\", \"Topic3\", \"Topic3\", \"Topic3\", \"Topic3\", \"Topic3\", \"Topic3\", \"Topic3\", \"Topic3\", \"Topic3\", \"Topic3\", \"Topic3\", \"Topic3\", \"Topic3\", \"Topic3\", \"Topic3\", \"Topic3\", \"Topic3\", \"Topic3\", \"Topic3\", \"Topic3\", \"Topic3\", \"Topic3\", \"Topic3\", \"Topic3\", \"Topic3\", \"Topic3\", \"Topic3\", \"Topic3\", \"Topic3\", \"Topic3\", \"Topic3\", \"Topic3\", \"Topic4\", \"Topic4\", \"Topic4\", \"Topic4\", \"Topic4\", \"Topic4\", \"Topic4\", \"Topic4\", \"Topic4\", \"Topic4\", \"Topic4\", \"Topic4\", \"Topic4\", \"Topic4\", \"Topic4\", \"Topic4\", \"Topic4\", \"Topic4\", \"Topic4\", \"Topic4\", \"Topic4\", \"Topic4\", \"Topic4\", \"Topic4\", \"Topic4\", \"Topic4\", \"Topic4\", \"Topic4\", \"Topic4\", \"Topic4\", \"Topic4\", \"Topic4\", \"Topic4\", \"Topic4\", \"Topic4\", \"Topic4\", \"Topic4\", \"Topic4\", \"Topic4\", \"Topic4\", \"Topic4\", \"Topic4\", \"Topic4\", \"Topic4\", \"Topic4\", \"Topic4\", \"Topic4\", \"Topic4\", \"Topic4\", \"Topic4\", \"Topic4\", \"Topic4\", \"Topic4\", \"Topic4\", \"Topic4\", \"Topic4\", \"Topic4\", \"Topic4\", \"Topic4\", \"Topic4\", \"Topic4\", \"Topic4\", \"Topic4\", \"Topic4\", \"Topic4\", \"Topic4\", \"Topic4\", \"Topic4\", \"Topic4\", \"Topic4\", \"Topic4\", \"Topic4\", \"Topic4\", \"Topic4\", \"Topic4\", \"Topic4\", \"Topic4\", \"Topic4\", \"Topic4\", \"Topic4\", \"Topic4\", \"Topic4\", \"Topic5\", \"Topic5\", \"Topic5\", \"Topic5\", \"Topic5\", \"Topic5\", \"Topic5\", \"Topic5\", \"Topic5\", \"Topic5\", \"Topic5\", \"Topic5\", \"Topic5\", \"Topic5\", \"Topic5\", \"Topic5\", \"Topic5\", \"Topic5\", \"Topic5\", \"Topic5\", \"Topic5\", \"Topic5\", \"Topic5\", \"Topic5\", \"Topic5\", \"Topic5\", \"Topic5\", \"Topic5\", \"Topic5\", \"Topic5\", \"Topic5\", \"Topic5\", \"Topic5\", \"Topic5\", \"Topic5\", \"Topic5\", \"Topic5\", \"Topic5\", \"Topic5\", \"Topic5\", \"Topic5\", \"Topic5\", \"Topic5\", \"Topic5\", \"Topic5\", \"Topic5\", \"Topic5\", \"Topic5\", \"Topic5\", \"Topic5\", \"Topic5\", \"Topic5\", \"Topic5\", \"Topic5\", \"Topic5\", \"Topic5\", \"Topic5\", \"Topic5\", \"Topic5\", \"Topic5\", \"Topic5\", \"Topic5\", \"Topic5\", \"Topic5\", \"Topic5\", \"Topic5\", \"Topic5\", \"Topic5\", \"Topic5\", \"Topic5\", \"Topic5\", \"Topic5\", \"Topic5\", \"Topic5\", \"Topic5\", \"Topic5\", \"Topic5\", \"Topic5\", \"Topic5\", \"Topic5\", \"Topic5\", \"Topic5\", \"Topic5\", \"Topic5\", \"Topic5\"], \"logprob\": [30.0, 29.0, 28.0, 27.0, 26.0, 25.0, 24.0, 23.0, 22.0, 21.0, 20.0, 19.0, 18.0, 17.0, 16.0, 15.0, 14.0, 13.0, 12.0, 11.0, 10.0, 9.0, 8.0, 7.0, 6.0, 5.0, 4.0, 3.0, 2.0, 1.0, -9.4596, -8.6014, -8.7833, -9.1913, -9.4811, -9.5028, -9.2369, -9.2619, -9.0512, -9.5932, -9.2551, -8.8892, -8.3944, -9.0832, -8.9005, -8.892, -9.3096, -9.1247, -8.9459, -8.9577, -8.1813, -7.6058, -9.655, -9.6481, -9.6561, -7.8981, -9.6592, -9.1542, -10.0426, -10.0507, -7.1801, -8.609, -8.0262, -7.5865, -8.4159, -8.9775, -8.2949, -8.3987, -5.1522, -5.7495, -5.5966, -6.4084, -6.981, -5.437, -7.355, -7.2104, -6.579, -6.8371, -6.2589, -6.4232, -7.1202, -5.658, -4.9067, -6.0525, -6.0901, -6.096, -6.0712, -5.6935, -5.1526, -5.613, -5.0319, -5.8101, -6.0137, -6.025, -6.0625, -5.9807, -6.4547, -5.9759, -5.91, -5.6346, -6.2404, -5.8929, -6.2212, -6.0984, -5.8931, -6.124, -6.1365, -5.854, -6.1812, -6.2013, -8.3544, -8.1909, -7.7354, -9.1025, -8.2048, -8.9047, -8.0269, -9.0796, -8.3038, -9.147, -8.932, -9.4206, -9.4452, -8.6438, -8.7785, -9.5115, -8.7978, -9.4878, -9.244, -9.0401, -9.0103, -9.4897, -9.811, -7.7863, -8.2727, -8.8564, -9.2609, -8.4553, -9.2634, -9.5491, -8.7249, -8.4977, -7.3518, -7.159, -8.3041, -6.6854, -8.7327, -6.9259, -7.9382, -6.7187, -5.9852, -7.7169, -8.1732, -5.499, -6.5879, -4.6388, -5.7487, -6.8734, -6.6217, -5.4549, -7.8065, -5.4309, -5.9849, -6.4644, -6.6369, -5.3839, -4.8854, -5.8736, -6.2565, -5.0924, -5.8531, -6.0966, -5.9762, -6.1728, -5.8849, -6.0947, -6.4157, -6.5764, -6.2111, -6.4603, -5.931, -6.1027, -5.9863, -5.9681, -6.2039, -6.211, -6.1773, -6.0227, -6.1551, -6.0639, -6.2146, -6.1076, -6.0612, -6.149, -8.4966, -9.0537, -7.6, -9.0832, -9.3637, -8.3891, -9.1278, -9.4093, -8.2413, -9.4544, -8.9633, -8.9609, -9.194, -7.9048, -9.4867, -9.2165, -8.415, -8.6601, -9.2467, -9.524, -9.542, -9.2103, -9.5325, -7.8498, -9.5377, -9.8446, -9.5159, -8.7165, -9.5556, -9.0387, -8.467, -6.9855, -8.5033, -8.4978, -8.9054, -7.0874, -7.8518, -7.606, -8.2131, -8.7792, -8.128, -7.9479, -7.8844, -7.0152, -6.908, -5.4585, -7.554, -6.1058, -6.3552, -5.8517, -6.2476, -5.5638, -6.6426, -6.5952, -6.8685, -5.7038, -6.0516, -5.5064, -5.8232, -6.0756, -5.6955, -5.6131, -5.0684, -6.0358, -5.8431, -6.0631, -5.8973, -5.8889, -6.0906, -5.29, -5.8696, -5.4767, -6.0723, -6.3802, -5.8675, -6.1278, -6.1226, -6.1824, -6.2562, -6.2235, -5.9531, -6.2246, -6.2453, -8.4459, -8.9033, -8.3203, -8.9986, -8.6193, -9.3311, -9.3542, -8.8898, -8.8465, -9.387, -8.9074, -9.1167, -8.9123, -8.732, -9.1455, -8.4671, -9.4301, -8.9339, -9.4465, -9.4248, -9.4786, -9.4439, -8.9659, -9.2141, -9.4811, -9.4649, -8.6637, -8.9756, -9.4914, -8.7975, -8.3147, -7.9324, -8.9869, -7.9018, -7.7468, -7.9509, -7.5447, -7.5771, -8.5148, -8.8073, -5.7291, -5.2242, -6.0366, -7.731, -7.1965, -5.0156, -5.9951, -4.8716, -5.7882, -5.8997, -5.8366, -6.2045, -6.4511, -6.3586, -5.6684, -6.1402, -6.8805, -6.422, -5.6301, -5.0794, -5.7771, -6.0996, -6.285, -5.8423, -5.8178, -6.5073, -5.981, -6.3707, -6.0679, -6.5444, -6.2913, -6.1375, -6.396, -5.8185, -6.0665, -6.2028, -6.0778, -6.0201, -6.0426, -6.1849, -6.2127, -6.2839, -8.0671, -7.9546, -8.9019, -8.2257, -8.5575, -8.5621, -8.7465, -7.8153, -8.2727, -9.3046, -8.8155, -9.3108, -9.2942, -9.0454, -9.3448, -9.3383, -8.0036, -8.6848, -8.1023, -8.6943, -9.1121, -8.9058, -9.379, -9.4337, -8.9467, -8.9351, -8.6373, -9.1686, -9.1675, -7.7974, -8.3979, -7.2618, -7.4686, -8.1346, -8.1101, -7.1216, -7.7873, -8.1141, -6.6449, -7.509, -6.5275, -7.2303, -7.498, -7.4975, -8.2954, -4.7018, -7.2466, -7.2081, -5.0794, -6.7994, -4.996, -6.025, -6.4161, -5.8465, -6.488, -6.0112, -5.9937, -6.271, -6.6295, -5.8515, -5.8046, -6.1951, -6.2699, -5.8788, -6.3706, -6.0467, -6.2077, -6.3313, -6.2234, -6.3137, -6.29, -6.2411, -6.4218, -5.9323, -6.0462, -6.0816, -5.9279, -6.1405, -5.9727, -6.0734, -6.2574, -6.2208, -6.2579, -6.2824, -6.2906], \"loglift\": [30.0, 29.0, 28.0, 27.0, 26.0, 25.0, 24.0, 23.0, 22.0, 21.0, 20.0, 19.0, 18.0, 17.0, 16.0, 15.0, 14.0, 13.0, 12.0, 11.0, 10.0, 9.0, 8.0, 7.0, 6.0, 5.0, 4.0, 3.0, 2.0, 1.0, 1.042, 1.0284, 1.0197, 1.0063, 0.9962, 0.9665, 0.9589, 0.9349, 0.9194, 0.9166, 0.9138, 0.9023, 0.9016, 0.8978, 0.8958, 0.8829, 0.8729, 0.8582, 0.8499, 0.8495, 0.8466, 0.8425, 0.84, 0.8358, 0.8335, 0.8327, 0.8284, 0.8249, 0.8217, 0.821, 0.8197, 0.8122, 0.8046, 0.7929, 0.7906, 0.8119, 0.7832, 0.7845, 0.453, 0.4783, 0.4564, 0.5347, 0.6037, 0.3463, 0.6288, 0.5935, 0.461, 0.4943, 0.3516, 0.3601, 0.5066, 0.1804, 0.0055, 0.2652, 0.2682, 0.2657, 0.2446, 0.1428, 0.002, 0.1034, -0.083, 0.135, 0.194, 0.1901, 0.1863, 0.1356, 0.3002, 0.1192, 0.0766, -0.0475, 0.1973, -0.0101, 0.1673, 0.0884, -0.0782, 0.0905, 0.0983, -0.1808, -0.0168, 0.0437, 1.3063, 1.2329, 1.1933, 1.1243, 1.1172, 1.1139, 1.1045, 1.0972, 1.096, 1.0872, 1.0814, 1.0795, 1.0582, 1.0383, 1.0275, 1.0107, 1.0083, 1.001, 0.9939, 0.9898, 0.9874, 0.9841, 0.9824, 0.9814, 0.9811, 0.9726, 0.9718, 0.9714, 0.964, 0.9609, 0.9591, 0.9515, 0.9123, 0.9031, 0.9417, 0.7977, 0.9428, 0.7491, 0.8612, 0.7084, 0.6046, 0.8162, 0.8736, 0.4544, 0.6234, 0.2734, 0.4278, 0.6192, 0.5584, 0.2614, 0.8026, 0.2424, 0.3731, 0.4817, 0.5202, 0.2032, 0.0635, 0.3131, 0.4084, 0.0623, 0.2633, 0.3311, 0.2587, 0.2765, 0.1288, 0.223, 0.3756, 0.4459, 0.2266, 0.3722, 0.0142, 0.1062, 0.0004, -0.0853, 0.1037, 0.0965, 0.0304, -0.1865, -0.06, -0.2255, -0.0005, -0.2926, -0.456, -0.3656, 1.2441, 1.2205, 1.2119, 1.2003, 1.191, 1.1803, 1.1438, 1.1416, 1.1076, 1.0935, 1.0814, 1.0695, 1.0694, 1.0665, 1.0647, 1.0641, 1.0619, 1.0343, 1.0179, 1.0178, 1.0164, 1.0147, 1.008, 1.0063, 1.0051, 1.0021, 0.993, 0.9908, 0.9875, 0.9869, 0.9834, 0.9493, 0.9694, 0.9625, 0.9725, 0.8535, 0.9001, 0.8519, 0.9008, 0.9529, 0.8529, 0.8233, 0.81, 0.6598, 0.633, 0.3565, 0.7486, 0.4602, 0.5071, 0.3971, 0.4488, 0.2724, 0.5129, 0.4941, 0.5585, 0.179, 0.2642, 0.0988, 0.1904, 0.2421, 0.0879, 0.0601, -0.1562, 0.1794, 0.102, 0.1819, 0.0894, 0.0645, 0.1239, -0.341, -0.0312, -0.3221, 0.0509, 0.2383, -0.1512, 0.0366, -0.0063, 0.0264, 0.1019, 0.0618, -0.366, -0.0169, 0.0623, 1.4671, 1.3918, 1.287, 1.2658, 1.2576, 1.2356, 1.2072, 1.188, 1.1714, 1.1699, 1.1641, 1.1636, 1.1445, 1.1441, 1.1372, 1.1303, 1.1235, 1.1178, 1.1148, 1.1092, 1.093, 1.0886, 1.0879, 1.0714, 1.0692, 1.068, 1.0679, 1.0671, 1.0619, 1.054, 1.046, 1.0113, 1.0469, 0.9895, 0.9662, 0.9806, 0.8857, 0.8778, 0.9799, 1.0228, 0.485, 0.3629, 0.4724, 0.8151, 0.6913, 0.1391, 0.3665, 0.0773, 0.3069, 0.3091, 0.2866, 0.3675, 0.4237, 0.3836, 0.1465, 0.2963, 0.5373, 0.3646, 0.0431, -0.1672, 0.0591, 0.1857, 0.264, 0.0405, 0.0206, 0.3362, 0.0719, 0.2629, 0.0965, 0.3512, 0.1805, 0.0776, 0.2129, -0.2133, -0.0799, 0.0117, -0.1244, -0.2367, -0.3262, -0.2398, -0.199, -0.0561, 1.4575, 1.4484, 1.4027, 1.3969, 1.3571, 1.323, 1.3216, 1.3198, 1.3087, 1.2672, 1.2629, 1.2526, 1.2427, 1.2281, 1.2244, 1.2244, 1.2072, 1.2012, 1.1923, 1.1796, 1.1769, 1.171, 1.1456, 1.1418, 1.141, 1.1354, 1.1296, 1.1197, 1.1134, 1.1097, 1.1073, 1.0884, 1.0822, 1.0949, 1.0838, 0.9859, 1.0328, 1.0654, 0.8476, 0.9696, 0.7605, 0.8819, 0.9272, 0.9222, 1.0699, 0.2471, 0.8229, 0.7702, 0.0753, 0.5995, -0.0838, 0.2826, 0.4274, 0.1672, 0.4075, 0.1532, 0.1295, 0.238, 0.4258, -0.0132, -0.0882, 0.1124, 0.1577, -0.0954, 0.2188, 0.0062, 0.11, 0.1893, 0.0943, 0.1228, 0.0873, 0.0442, 0.1866, -0.2591, -0.1634, -0.1365, -0.3227, -0.1538, -0.3856, -0.2584, -0.0123, -0.1257, -0.0712, -0.0683, -0.1742]}, \"token.table\": {\"Topic\": [1, 3, 4, 5, 1, 4, 1, 2, 3, 4, 5, 1, 2, 3, 4, 5, 1, 2, 3, 4, 5, 4, 1, 2, 3, 4, 5, 1, 3, 5, 1, 3, 4, 5, 1, 2, 3, 1, 2, 3, 4, 5, 2, 5, 3, 4, 5, 1, 2, 3, 4, 5, 1, 3, 4, 5, 2, 3, 5, 1, 2, 3, 4, 3, 1, 2, 3, 4, 5, 1, 2, 3, 5, 3, 2, 5, 1, 2, 3, 4, 5, 1, 2, 3, 4, 5, 1, 2, 3, 4, 5, 2, 3, 4, 1, 2, 3, 4, 5, 1, 3, 5, 2, 1, 2, 1, 4, 3, 4, 2, 5, 1, 2, 3, 4, 5, 1, 2, 3, 4, 5, 1, 4, 5, 1, 2, 3, 4, 5, 1, 2, 3, 4, 5, 1, 2, 3, 4, 5, 2, 3, 1, 2, 3, 4, 5, 1, 3, 1, 3, 5, 1, 2, 3, 4, 5, 1, 2, 3, 4, 5, 1, 2, 3, 4, 5, 1, 3, 4, 5, 1, 2, 3, 4, 5, 1, 1, 2, 5, 1, 2, 3, 4, 5, 1, 3, 4, 2, 5, 1, 2, 3, 4, 5, 1, 5, 1, 2, 3, 4, 5, 1, 2, 3, 4, 5, 1, 3, 3, 2, 4, 1, 2, 3, 4, 5, 1, 2, 3, 4, 5, 1, 3, 5, 1, 2, 3, 4, 5, 1, 2, 3, 4, 5, 1, 2, 3, 4, 5, 2, 4, 1, 2, 3, 4, 5, 1, 2, 3, 4, 5, 1, 2, 3, 4, 5, 2, 4, 4, 1, 2, 3, 4, 5, 1, 2, 5, 1, 2, 3, 4, 5, 1, 2, 3, 5, 2, 1, 2, 3, 4, 5, 1, 2, 3, 4, 5, 1, 2, 3, 4, 5, 1, 2, 3, 4, 5, 1, 2, 3, 4, 5, 3, 4, 5, 4, 1, 2, 3, 4, 5, 2, 3, 5, 1, 2, 3, 4, 5, 1, 2, 3, 4, 5, 1, 2, 3, 4, 5, 1, 2, 3, 4, 5, 1, 2, 3, 4, 5, 3, 5, 1, 2, 3, 4, 3, 4, 5, 2, 1, 2, 3, 4, 5, 1, 1, 2, 4, 1, 2, 3, 4, 5, 1, 4, 2, 1, 2, 3, 4, 5, 1, 2, 3, 4, 5, 1, 3, 4, 2, 4, 1, 2, 5, 1, 2, 3, 4, 5, 1, 2, 3, 4, 5, 1, 2, 3, 4, 5, 2, 3, 5, 1, 2, 1, 2, 3, 4, 5, 1, 2, 3, 4, 5, 1, 2, 3, 4, 5, 1, 2, 3, 4, 5, 1, 4, 5, 2, 5, 1, 2, 2, 3, 5, 1, 2, 4, 5, 3, 1, 2, 2, 5, 1, 2, 3, 4, 5, 5, 1, 5, 2, 1, 2, 3, 4, 5, 1, 2, 3, 4, 5, 1, 3, 4, 5, 1, 2, 3, 4, 5, 1, 2, 3, 4, 5, 2, 3, 4, 5, 1, 2, 3, 4, 5, 1, 2, 3, 4, 5, 1, 2, 3, 4, 5, 1, 2, 3, 4, 5, 1, 2, 3, 4, 5, 1, 2, 3, 4, 5, 1, 2, 3, 4, 5, 1, 2, 3, 4, 5, 1, 2, 3, 4, 5, 1, 2, 3, 4, 5, 1, 2, 3, 4, 5, 1, 2, 3, 1, 2, 3, 4, 5, 1, 2, 3, 4, 5, 1, 2, 4, 1, 2, 3, 4, 5, 4, 1, 2, 3, 4, 5, 1, 2, 3, 4, 5, 1, 2, 3, 4, 5, 1, 2, 3, 4, 5, 1, 3, 4, 5, 1, 2, 3, 4, 5, 1, 2, 3, 4, 5, 1, 2, 3, 4, 5, 1, 2, 3, 4, 1, 4, 1, 2, 3, 4, 1, 2, 1, 2, 3, 4, 5, 1, 2, 3, 4, 5, 1, 2, 3, 4, 5, 1, 2, 3, 4, 5, 1, 2, 3, 4, 5, 1, 2, 4, 5, 1, 2, 3, 4, 5, 1, 2, 3, 4, 1, 2, 3, 4, 5, 1, 2, 3, 4, 5, 1, 2, 3, 4, 5, 1, 2, 3, 4, 1, 2, 3, 4, 5, 2, 2, 1, 2, 3, 5, 1, 2, 3, 4, 5, 1, 2, 3, 4, 5, 1, 2, 3, 4, 5, 1, 2, 3, 4, 5, 1, 2, 3, 4, 5, 1, 2, 3, 4, 5, 3, 1, 2, 3, 4, 5, 1, 1, 4, 5, 4, 2, 3, 5, 1, 2, 3, 4, 5, 1, 2, 4, 5, 1, 2, 3, 4, 5, 1, 3, 4, 5, 5, 1, 2, 3, 4, 5, 1, 2, 3, 4, 5, 1, 2, 3, 4, 5, 2, 5, 1, 2, 3, 4, 5, 3, 4, 5, 3, 1, 2, 3, 4, 3, 4, 2, 5, 2, 3, 2, 3, 3, 1, 1, 2, 3, 4, 5, 1, 5, 1, 4, 2, 5, 3, 1, 1, 2, 3, 4, 1, 2, 3, 4, 5, 1, 2, 4, 5, 1, 2, 3, 4, 5, 1, 2, 3, 4, 5, 1, 2, 3, 4, 5, 2, 3, 4, 5, 1, 2, 3, 4, 5, 1, 2, 3, 4, 5, 3, 5, 3, 5, 4, 1, 2, 3, 4, 5, 1, 3, 4, 5, 1, 2, 3, 4, 5, 1, 2, 3, 4, 5, 1, 2, 3, 4, 5, 2, 2, 3, 4, 1, 2, 3, 4, 5, 1, 2, 3, 4, 5, 2, 3, 5, 1, 2, 3, 4, 5, 1, 2, 3, 4, 5, 1, 2, 3, 4, 5, 1, 3, 4, 1, 2, 3, 4, 5, 1, 2, 3, 4, 5, 1, 2, 3, 4, 5, 1, 2, 3, 4, 5, 1, 1, 2, 3, 1, 5, 3, 2, 1, 4, 1, 2, 4, 1, 3, 4, 5, 1, 2, 3, 4, 5, 5, 4, 3, 1, 2, 3, 4, 5, 1, 2, 3, 4, 5, 1, 2, 3, 4, 5, 1, 2, 4, 1, 2, 3, 4, 5, 1, 2, 3, 4, 5, 1, 2, 3, 4, 5, 1, 2, 3, 4, 5, 1, 2, 3, 4, 5, 4, 1, 2, 3, 4, 5, 1, 2, 3, 4, 5, 4, 1, 2, 3, 4, 5, 3, 4, 5, 1, 2, 3, 4, 5, 1, 3, 1, 2, 3, 4, 5, 1, 3, 1, 2, 3, 4, 5, 1, 3, 4, 1, 2, 3, 4, 5, 1, 4, 3, 1, 4, 5, 1, 2, 3, 4, 5, 1, 3, 1, 2, 3, 4, 5, 1, 2, 3, 4, 5, 1, 2, 3, 4, 5, 1, 2, 3, 4, 5, 1, 2, 3, 4, 5, 1, 2, 3, 4, 5, 1, 2, 3, 4, 1, 2, 3, 4, 5, 1, 2, 3, 4, 5, 1, 2, 3, 4, 5, 1, 5, 1, 2, 3, 4, 5], \"Freq\": [0.528274355423655, 0.176091451807885, 0.176091451807885, 0.176091451807885, 0.22812009234438388, 0.45624018468876776, 0.08625892928817214, 0.4528593787629038, 0.38816518179677467, 0.021564732322043034, 0.0646941969661291, 0.2359799325285103, 0.20553090897644444, 0.16746962953636213, 0.22836767664049382, 0.1522451177603292, 0.1020599498242722, 0.1020599498242722, 0.2041198996485444, 0.1020599498242722, 0.510299749121361, 0.5745648338533618, 0.11637276477599232, 0.11637276477599232, 0.23274552955198463, 0.46549105910396926, 0.11637276477599232, 0.2273281372390335, 0.6819844117171006, 0.38712254357721904, 0.12177207119434436, 0.18265810679151653, 0.4870882847773774, 0.18265810679151653, 0.15941628936939437, 0.47824886810818307, 0.15941628936939437, 0.0836433849731299, 0.36803089388177157, 0.31784486289789365, 0.0836433849731299, 0.15055809295163383, 0.556636164099306, 0.278318082049653, 0.2407633896937142, 0.2407633896937142, 0.4815267793874284, 0.18991414681117844, 0.06330471560372615, 0.5064377248298092, 0.1266094312074523, 0.1266094312074523, 0.22624968017511646, 0.4524993603502329, 0.22624968017511646, 0.22624968017511646, 0.48235733294239685, 0.16078577764746563, 0.16078577764746563, 0.18607498902555983, 0.18607498902555983, 0.18607498902555983, 0.5582249670766795, 0.5142825865388264, 0.24177398950778198, 0.15580990434945952, 0.20953745757341105, 0.20953745757341105, 0.17730092563904012, 0.12100163663010198, 0.60500818315051, 0.12100163663010198, 0.12100163663010198, 0.5839028046488448, 0.6740127717946197, 0.22467092393153992, 0.04816448007010757, 0.1444934402103227, 0.33715136049075295, 0.04816448007010757, 0.4334803206309681, 0.1272828310803409, 0.1272828310803409, 0.5091313243213637, 0.1272828310803409, 0.1272828310803409, 0.31211444013999884, 0.35372969882533206, 0.15605722006999942, 0.11444196138466625, 0.07282670269933307, 0.2327332813339128, 0.2327332813339128, 0.4654665626678256, 0.2952653136304697, 0.16058288986920283, 0.2900852204088825, 0.10878195765333096, 0.14504261020444126, 0.16247441578097338, 0.48742324734292014, 0.16247441578097338, 0.5537055717042446, 0.5364540212407837, 0.26822701062039184, 0.1489134008767196, 0.5956536035068783, 0.5739782554714515, 0.28698912773572577, 0.2920643152607955, 0.584128630521591, 0.17004496939462144, 0.5101349081838643, 0.08502248469731072, 0.08502248469731072, 0.08502248469731072, 0.1591886775518888, 0.0795943387759444, 0.47756603265566644, 0.0795943387759444, 0.23878301632783322, 0.1948401740954066, 0.5845205222862199, 0.1948401740954066, 0.14111178533206475, 0.09407452355470983, 0.23518630888677458, 0.42333535599619426, 0.09407452355470983, 0.2325411963064072, 0.2646158440728082, 0.13631725300720424, 0.2539242948173412, 0.11493415449627023, 0.2970222177947569, 0.1262344425627717, 0.1707877752319852, 0.21534110790119876, 0.18563888612172308, 0.27619168051634924, 0.5523833610326985, 0.063518586452532, 0.5399079848465219, 0.28583363903639397, 0.09527787967879799, 0.031759293226266, 0.7196697586129738, 0.3598348793064869, 0.19677574108304383, 0.19677574108304383, 0.5903272232491314, 0.17522776301872695, 0.23363701735830258, 0.17522776301872695, 0.058409254339575646, 0.3796601532072417, 0.17362300739999495, 0.19646813995262585, 0.20560619297367821, 0.2330203520368353, 0.19189911344209967, 0.2754091280985766, 0.20433580471829876, 0.13326248133802093, 0.23987246640843768, 0.1510308121830904, 0.09091502490744909, 0.4545751245372454, 0.18183004981489817, 0.18183004981489817, 0.09849170865877314, 0.09849170865877314, 0.09849170865877314, 0.1969834173175463, 0.49245854329386574, 0.723533518472604, 0.12394364939819418, 0.7436618963891651, 0.12394364939819418, 0.09286251136681531, 0.09286251136681531, 0.09286251136681531, 0.09286251136681531, 0.6500375795677071, 0.36682065169924666, 0.36682065169924666, 0.3761779324141611, 0.23664655096576961, 0.47329310193153923, 0.5263551761633396, 0.17545172538777987, 0.08772586269388993, 0.08772586269388993, 0.08772586269388993, 0.7343958069861242, 0.7545020418940499, 0.281182438386969, 0.17831081458685838, 0.2571790595002765, 0.18859797696686942, 0.09601351554676989, 0.15259310078644045, 0.5086436692881349, 0.15259310078644045, 0.10172873385762697, 0.10172873385762697, 0.37913170488775655, 0.37913170488775655, 0.3794954310222197, 0.5533938449404431, 0.27669692247022154, 0.5578308805573952, 0.18594362685246507, 0.06198120895082169, 0.06198120895082169, 0.12396241790164338, 0.17335592436801772, 0.3120406638624319, 0.21380564005388852, 0.16757739355575046, 0.12712767786987966, 0.17015286376983316, 0.6806114550793326, 0.17015286376983316, 0.25623000643725313, 0.16248732115533127, 0.15623780880320312, 0.23748146938086875, 0.19373488291597188, 0.2292012079039488, 0.2973421075510687, 0.20442269894135975, 0.06814089964711992, 0.1982280717007125, 0.1037356456892351, 0.5186782284461755, 0.2074712913784702, 0.1037356456892351, 0.1037356456892351, 0.559571538387803, 0.2797857691939015, 0.2822270860493899, 0.08063631029982568, 0.13439385049970945, 0.2822270860493899, 0.21503016079953513, 0.07119958003250049, 0.4805971652193783, 0.19579884508937634, 0.14239916006500097, 0.10679937004875073, 0.14132515749659866, 0.3597367645367966, 0.07708644954359928, 0.1798683822683983, 0.2441070902213977, 0.38352585685661106, 0.38352585685661106, 0.7773579003117986, 0.2334292981772024, 0.2334292981772024, 0.166735212983716, 0.3001233833706888, 0.0666940851934864, 0.5233832977366719, 0.6705331777358917, 0.22351105924529724, 0.24070145091480902, 0.19759074328827606, 0.23351633297705351, 0.18322050741276508, 0.14370235875510987, 0.1089233515668915, 0.217846703133783, 0.1089233515668915, 0.5446167578344574, 0.5574755998078569, 0.14511425633303887, 0.14511425633303887, 0.14511425633303887, 0.14511425633303887, 0.5804570253321555, 0.257237593554483, 0.5787845854975867, 0.06430939838862075, 0.06430939838862075, 0.06430939838862075, 0.3189449284217458, 0.10438197657438954, 0.1797689596558931, 0.25515594273739667, 0.13917596876585273, 0.3447988212049871, 0.1856609037257623, 0.12377393581717487, 0.1856609037257623, 0.15913791747922482, 0.13277353831649769, 0.5310941532659907, 0.06638676915824884, 0.13277353831649769, 0.19916030747474656, 0.5060871448108268, 0.16869571493694227, 0.16869571493694227, 0.3755933380771221, 0.2541872284108018, 0.08472907613693394, 0.08472907613693394, 0.08472907613693394, 0.5083744568216036, 0.13708902228332417, 0.13708902228332417, 0.6854451114166209, 0.22908486094802757, 0.2454480653014581, 0.11454243047401379, 0.11454243047401379, 0.31090088271518024, 0.2657865553264981, 0.20983149104723534, 0.1608708098028804, 0.23081464015195885, 0.13289327766324904, 0.2677627596497935, 0.29697324252068, 0.15578924197806165, 0.12657875910717512, 0.15578924197806165, 0.29552162614967054, 0.1352387102718831, 0.23541553269550025, 0.19033596260487254, 0.14525639251424483, 0.26157141235666215, 0.1646931114838243, 0.18406877165839186, 0.2712592424439459, 0.12594179113468917, 0.3920975998909199, 0.3920975998909199, 0.6478946533781237, 0.21596488445937456, 0.21596488445937456, 0.21596488445937456, 0.23343684191226213, 0.46687368382452427, 0.23343684191226213, 0.7272777035585459, 0.22491041114593474, 0.16112984679111744, 0.27862036007630725, 0.20476918029704508, 0.1309180005177829, 0.7283760799517561, 0.2322239752105604, 0.2322239752105604, 0.4644479504211208, 0.1307006851197902, 0.1307006851197902, 0.5228027404791608, 0.1307006851197902, 0.1307006851197902, 0.2925792826615146, 0.5851585653230292, 0.487564715347877, 0.5371279830143615, 0.08952133050239358, 0.08952133050239358, 0.17904266100478716, 0.08952133050239358, 0.17758788179326504, 0.2719314439959371, 0.24973295877177895, 0.11654204742683018, 0.1886871244053441, 0.5456062362652632, 0.18186874542175438, 0.18186874542175438, 0.382333458073739, 0.382333458073739, 0.1944049808563791, 0.1944049808563791, 0.5832149425691374, 0.18358030502264575, 0.2848659905523813, 0.17724994967703728, 0.1899106603682542, 0.1709195943314288, 0.22631511235097862, 0.09429796347957442, 0.3771918539182977, 0.18859592695914884, 0.11315755617548931, 0.1816474262079187, 0.13623556965593903, 0.1816474262079187, 0.09082371310395936, 0.40870670896781713, 0.2381408202227238, 0.2381408202227238, 0.4762816404454476, 0.15707594768488967, 0.7853797384244483, 0.20391298443615363, 0.2184781976101646, 0.20391298443615363, 0.1674999515011262, 0.2111955910231591, 0.1369783208388302, 0.22829720139805032, 0.1369783208388302, 0.09131888055922013, 0.4109349625164906, 0.1398007750112702, 0.16776093001352424, 0.5032827900405727, 0.1398007750112702, 0.055920310004508075, 0.31045167983516847, 0.062090335967033686, 0.17740095990581053, 0.2572313918634253, 0.1951410558963916, 0.22450082555080494, 0.6735024766524148, 0.22450082555080494, 0.15120704849627828, 0.7560352424813914, 0.18165435643747002, 0.54496306931241, 0.3153465117821857, 0.551856395618825, 0.07883662794554643, 0.6424550252215054, 0.21415167507383515, 0.28991852927060036, 0.5798370585412007, 0.7651831506278605, 0.35956637327459257, 0.7191327465491851, 0.2385276977666434, 0.7155830932999302, 0.06722019348396815, 0.06722019348396815, 0.6722019348396816, 0.1344403869679363, 0.1344403869679363, 0.3726755161579114, 0.7052544985827736, 0.5981356366876098, 0.7083613981624911, 0.1377024042234815, 0.045900801407827166, 0.18360320563130866, 0.4131072126704445, 0.18360320563130866, 0.2630259555642572, 0.1866635813681825, 0.13575533190413275, 0.2545412473202489, 0.15272474839214933, 0.14337949289580887, 0.5735179715832355, 0.14337949289580887, 0.14337949289580887, 0.14589654905734586, 0.21884482358601878, 0.30800382578773017, 0.12968582138430743, 0.19452873207646115, 0.27679552114132183, 0.2813331526354419, 0.1951181542471613, 0.1043655243647607, 0.14066657631772095, 0.5085488794110815, 0.12713721985277038, 0.12713721985277038, 0.25427443970554076, 0.28593634913800314, 0.20253824730608558, 0.19658124003237717, 0.18466722548496037, 0.1310541600215848, 0.39763037134139917, 0.18352170984987654, 0.19881518567069958, 0.1376412823874074, 0.07646737910411522, 0.20514815320440677, 0.2151553801899876, 0.13509756430534103, 0.2852059690890533, 0.16011563176929308, 0.09252406082094301, 0.6476684257466011, 0.09252406082094301, 0.18504812164188603, 0.09252406082094301, 0.1773370978300427, 0.339253578457473, 0.20817833223526752, 0.1542061720261241, 0.11950978332024617, 0.2272770237132827, 0.07575900790442756, 0.15151801580885513, 0.4545540474265654, 0.15151801580885513, 0.2652951116814865, 0.18020045321761347, 0.22024499837708314, 0.18020045321761347, 0.15517261249294495, 0.5234014570878822, 0.1744671523626274, 0.0872335761813137, 0.13085036427197055, 0.0872335761813137, 0.23073046352855675, 0.23622404599352237, 0.19227538627379728, 0.11536523176427838, 0.2252368810635911, 0.07277069895137067, 0.21831209685411204, 0.07277069895137067, 0.5093948926595947, 0.14554139790274134, 0.1719866859022346, 0.24569526557462085, 0.23750542338880015, 0.14332223825186216, 0.20065113355260702, 0.5396606104080184, 0.17988687013600613, 0.17988687013600613, 0.21522417486219378, 0.2226456981333039, 0.2003811283199735, 0.16327351196442286, 0.20780265159108363, 0.27071396114163565, 0.2798391508430391, 0.1672951445257299, 0.1277526558196483, 0.15512822492385864, 0.1604877083131364, 0.6419508332525456, 0.1604877083131364, 0.24741531231494915, 0.17672522308210653, 0.2061794269291243, 0.18261606385151008, 0.18261606385151008, 0.38657823882059345, 0.17090313495471018, 0.3812454548989689, 0.15775673995819403, 0.10517115997212935, 0.18404952995122636, 0.22649210902733483, 0.3325096919763001, 0.178302298595987, 0.13493146920777394, 0.1252935071215044, 0.5480583451572866, 0.13701458628932164, 0.13701458628932164, 0.13701458628932164, 0.06850729314466082, 0.3810293802543774, 0.1360819215194205, 0.21500943600068437, 0.1415251983801973, 0.12247372936747844, 0.19196111648013167, 0.3519287135469081, 0.06398703882671056, 0.38392223296026334, 0.12855130797584438, 0.12855130797584438, 0.5142052319033775, 0.12855130797584438, 0.12855130797584438, 0.1941558313185858, 0.0970779156592929, 0.0970779156592929, 0.0970779156592929, 0.4853895782964645, 0.3101829695578044, 0.2270982455691068, 0.2547931535653393, 0.09416268718719062, 0.11077963198493014, 0.1645697357124254, 0.1645697357124254, 0.4937092071372762, 0.1645697357124254, 0.2918876501868601, 0.5837753003737202, 0.49449419467255823, 0.24724709733627911, 0.12362354866813956, 0.12362354866813956, 0.5369910911476339, 0.26849554557381694, 0.2950179115544325, 0.16674925435685317, 0.3206716429939484, 0.08978806003830556, 0.12826865719757938, 0.1742037823674059, 0.23890804438958527, 0.19909003699132105, 0.23890804438958527, 0.14434027681870776, 0.29334098472060743, 0.22373464936317516, 0.19390336278141848, 0.14915643290878344, 0.13921267071486454, 0.2862890697308429, 0.18608789532504788, 0.14314453486542145, 0.2576601627577586, 0.13598730812215037, 0.46987222121045674, 0.08810104147696063, 0.17620208295392126, 0.14683506912826771, 0.11746805530261419, 0.19011188973033663, 0.19011188973033663, 0.57033566919101, 0.19011188973033663, 0.3178696563317637, 0.21383958698682284, 0.19650124209599937, 0.16760400061129357, 0.10403006934494084, 0.11194492558161426, 0.6716695534896856, 0.11194492558161426, 0.11194492558161426, 0.4415702840444106, 0.1962534595752936, 0.1962534595752936, 0.1226584122345585, 0.0490633648938234, 0.19134534000865275, 0.2009126070090854, 0.3252870780147097, 0.14350900500648955, 0.1339417380060569, 0.24742756363499, 0.1724495140486294, 0.24742756363499, 0.1499560991727212, 0.17994731900726546, 0.11500074733437451, 0.11500074733437451, 0.5750037366718725, 0.11500074733437451, 0.21990020797885232, 0.3219967331118909, 0.21204662912246475, 0.13351084055858892, 0.10995010398942616, 0.5263666310764068, 0.7435500198355371, 0.07554970417241162, 0.6799473375517046, 0.07554970417241162, 0.15109940834482324, 0.25886468806939095, 0.10354587522775638, 0.10354587522775638, 0.05177293761387819, 0.5177293761387819, 0.2134413688377268, 0.1067206844188634, 0.24012153994244265, 0.3468422243613061, 0.08004051331414755, 0.2472287336925296, 0.2362407899728616, 0.20877093067369165, 0.1153734090565138, 0.1922890150941897, 0.24499297877570625, 0.28310299769637165, 0.16741186883006592, 0.14835685936973322, 0.1565232919955901, 0.4531579086315148, 0.13791762436611318, 0.2167276954324636, 0.1182151065995256, 0.07881007106635039, 0.1554736826557947, 0.5441578892952814, 0.11660526199184602, 0.1554736826557947, 0.038868420663948675, 0.3786129848118433, 0.48722506509055913, 0.09744501301811183, 0.09744501301811183, 0.09744501301811183, 0.19489002603622366, 0.7108709121906602, 0.23687208444064856, 0.4737441688812971, 0.23687208444064856, 0.37573424400562394, 0.5576323581363741, 0.18587745271212472, 0.18587745271212472, 0.316343835926287, 0.16649675575067738, 0.1720466476090333, 0.15539697203396555, 0.188696323184101, 0.1474452144081086, 0.1474452144081086, 0.5897808576324344, 0.1474452144081086, 0.10016743740255545, 0.10016743740255545, 0.10016743740255545, 0.10016743740255545, 0.6010046244153328, 0.13015530439956957, 0.5206212175982783, 0.13015530439956957, 0.13015530439956957, 0.7813181265853724, 0.0718751395093702, 0.3953132673015361, 0.1078127092640553, 0.01796878487734255, 0.3953132673015361, 0.08440405432421381, 0.2532121629726415, 0.45015495639580705, 0.08440405432421381, 0.1406734238736897, 0.11780482105536651, 0.43756076391993276, 0.3365852030153329, 0.03365852030153329, 0.06731704060306658, 0.29442846562846725, 0.5888569312569345, 0.20197261770971286, 0.16157809416777028, 0.40394523541942573, 0.12118357062582771, 0.12118357062582771, 0.3493346807359263, 0.17466734036796314, 0.5240020211038895, 0.5856399177269681, 0.5453839630122533, 0.10907679260245066, 0.21815358520490133, 0.10907679260245066, 0.23837249339795383, 0.47674498679590765, 0.6816793660873358, 0.22722645536244526, 0.28936661923622886, 0.5787332384724577, 0.6601067413727497, 0.22003558045758323, 0.5802178369762914, 0.7155393591022521, 0.4987190397271166, 0.19948761589084665, 0.09974380794542333, 0.09974380794542333, 0.09974380794542333, 0.19659446680706327, 0.5897834004211898, 0.2301484716757271, 0.4602969433514542, 0.12140179145924865, 0.7284107487554919, 0.7680604511752057, 0.5374474393184371, 0.5359811960752048, 0.17866039869173495, 0.17866039869173495, 0.17866039869173495, 0.19781609515806067, 0.13847126661064246, 0.15825287612644853, 0.24727011894757583, 0.2571609237054789, 0.16861237220835168, 0.16861237220835168, 0.505837116625055, 0.16861237220835168, 0.120058810709138, 0.14407057285096558, 0.3241587889146726, 0.2161058592764484, 0.1920940971346208, 0.38854760394729754, 0.2514131554953102, 0.21712954338231333, 0.10285083633899053, 0.057139353521661405, 0.24282261617387296, 0.2289470381067945, 0.14222467518755416, 0.20293032923102242, 0.18385140938878952, 0.522873938843093, 0.2091495755372372, 0.1045747877686186, 0.1045747877686186, 0.19361796720543611, 0.12907864480362408, 0.45177525681268427, 0.19361796720543611, 0.06453932240181204, 0.2941025546845624, 0.2690725500305571, 0.14392252676053055, 0.14392252676053055, 0.14392252676053055, 0.7629340518514359, 0.7748283803668634, 0.2024849747941362, 0.6074549243824087, 0.5924404469818079, 0.26563272742489247, 0.2809576924686362, 0.14814132875619002, 0.15835797211868588, 0.14814132875619002, 0.13304657500545283, 0.13304657500545283, 0.5321863000218113, 0.26609315001090567, 0.3905989460711343, 0.20290854341357628, 0.1420359803895034, 0.16739954831620044, 0.09638155812144873, 0.5606991483074646, 0.1868997161024882, 0.0934498580512441, 0.0934498580512441, 0.04672492902562205, 0.1877820735276361, 0.1596147624984907, 0.14083655514572707, 0.24411669558592694, 0.26289490293869056, 0.7297024246517955, 0.2934221367075271, 0.2934221367075271, 0.5868442734150542, 0.2693180980477628, 0.315752252883584, 0.13930246450746353, 0.09286830967164235, 0.1857366193432847, 0.1317994590386591, 0.1610882277139167, 0.20502138072680307, 0.1464438433762879, 0.36610960844071977, 0.23609398270919169, 0.23609398270919169, 0.7082819481275751, 0.12431686236090617, 0.6215843118045308, 0.12431686236090617, 0.24863372472181233, 0.12431686236090617, 0.15457900271286826, 0.1030526684752455, 0.15457900271286826, 0.412210673900982, 0.206105336950491, 0.41097394280864097, 0.1643895771234564, 0.12329218284259229, 0.12329218284259229, 0.18493827426388842, 0.6091799029030099, 0.15229497572575248, 0.15229497572575248, 0.5840298819712844, 0.08343284028161206, 0.08343284028161206, 0.08343284028161206, 0.16686568056322412, 0.15339000740223016, 0.15339000740223016, 0.07669500370111508, 0.4601700222066905, 0.07669500370111508, 0.0702530537801684, 0.0702530537801684, 0.5620244302413472, 0.1405061075603368, 0.2107591613405052, 0.21753981891753169, 0.1563567448469759, 0.21074169957635883, 0.20394358023518594, 0.20394358023518594, 0.5273068829498367, 0.1816624244881187, 0.544987273464356, 0.1816624244881187, 0.29422165156145463, 0.5884433031229093, 0.3796098183898548, 0.7345008507393248, 0.5293752480481165, 0.7733074482061485, 0.7244317125605421, 0.18110792814013552, 0.18110792814013552, 0.29571638640061104, 0.07392909660015276, 0.07392909660015276, 0.5175036762010693, 0.13554188312387952, 0.06777094156193976, 0.13554188312387952, 0.13554188312387952, 0.4743965909335783, 0.38966203994647564, 0.3849040324975983, 0.3828054281583158, 0.08137724311986783, 0.40688621559933913, 0.2712574770662261, 0.14919161238642437, 0.10850299082649044, 0.38329595181612086, 0.10647109772670024, 0.14905953681738032, 0.18738913199899243, 0.17035375636272038, 0.18213150207444334, 0.3934040444807976, 0.12384942141062147, 0.1748462419914656, 0.11656416132764373, 0.5370848020413432, 0.1790282673471144, 0.1790282673471144, 0.256094575985875, 0.18495719376757638, 0.3130044817605139, 0.09247859688378819, 0.14938850265842707, 0.23805186626250763, 0.16663630638375534, 0.20472460498575656, 0.19520253033525625, 0.1999635676605064, 0.34210627942605865, 0.17105313971302932, 0.1487418606200255, 0.17105313971302932, 0.16361604668202806, 0.20392844516263928, 0.27384676921840134, 0.2068417086649627, 0.18353560064637536, 0.13109685760455383, 0.17930407372374543, 0.29884012287290906, 0.41837617202207267, 0.05976802457458181, 0.05976802457458181, 0.3836404280281216, 0.27850298169667675, 0.18566865446445116, 0.10443861813625378, 0.16246007265639478, 0.25529439988862035, 0.10976093285543087, 0.4939241978494389, 0.21952186571086174, 0.054880466427715435, 0.10976093285543087, 0.8086003943877897, 0.1344599060803205, 0.1344599060803205, 0.1344599060803205, 0.1344599060803205, 0.537839624321282, 0.1950054176371175, 0.5850162529113526, 0.1950054176371175, 0.1169011729172862, 0.2338023458345724, 0.1169011729172862, 0.1169011729172862, 0.4676046916691448, 0.28732343634591634, 0.5746468726918327, 0.3447608982285643, 0.14961321998598073, 0.21466244606684193, 0.13985583607385155, 0.15286568129002379, 0.23061435200786587, 0.6918430560235976, 0.2921031615789019, 0.17182538916405996, 0.18900792808046596, 0.17869840473062237, 0.16838888138077876, 0.5394230765450511, 0.17980769218168371, 0.17980769218168371, 0.2630609514443966, 0.21523168754541538, 0.21523168754541538, 0.16341665165485242, 0.14747356368852535, 0.718244730451832, 0.39059281357729525, 0.38546157882722065, 0.5222460483826283, 0.26112302419131417, 0.26112302419131417, 0.25287475731504605, 0.18062482665360433, 0.23223191998320558, 0.16514269865472397, 0.1703034079876841, 0.6491628085330265, 0.21638760284434216, 0.2791241751479178, 0.21794627374563444, 0.21794627374563444, 0.13765027815513756, 0.14912113466806567, 0.27839751221253317, 0.2071795439721177, 0.18775646172473168, 0.2136539047212464, 0.11006413273518754, 0.13355791103827624, 0.13355791103827624, 0.13355791103827624, 0.16694738879784532, 0.4006737331148288, 0.09970450923659997, 0.16617418206099996, 0.16617418206099996, 0.09970450923659997, 0.4652877097707999, 0.24700110324715666, 0.3368196862461227, 0.13472787449844909, 0.0785912601240953, 0.20209181174767363, 0.414881875286818, 0.2800452658186022, 0.062232281293022704, 0.062232281293022704, 0.17632479699689768, 0.19518870934360977, 0.19518870934360977, 0.5855661280308293, 0.19518870934360977, 0.1887252463794931, 0.1415439347846198, 0.4718131159487327, 0.09436262318974654, 0.09436262318974654, 0.32652267237127364, 0.20622484570817282, 0.22341024951718721, 0.14607593237662242, 0.09451972094957921, 0.22309399559763332, 0.23015393216717867, 0.1397867440769981, 0.19061828737772468, 0.21744604634199705, 0.6503836325866372, 0.21679454419554575, 0.24061176410759247, 0.31190413865799027, 0.15149629591959526, 0.15149629591959526, 0.14258474910079555], \"Term\": [\"acres\", \"acres\", \"acres\", \"acres\", \"altar\", \"altar\", \"ameni\", \"ameni\", \"ameni\", \"ameni\", \"ameni\", \"another\", \"another\", \"another\", \"another\", \"another\", \"antef\", \"antef\", \"antef\", \"antef\", \"antef\", \"ants\", \"apparent\", \"apparent\", \"apparent\", \"apparent\", \"apparent\", \"ashore\", \"ashore\", \"assessors\", \"baker\", \"baker\", \"baker\", \"baker\", \"bend\", \"bend\", \"bend\", \"bent\", \"bent\", \"bent\", \"bent\", \"bent\", \"besieged\", \"besieged\", \"bowl\", \"bowl\", \"bowl\", \"brave\", \"brave\", \"brave\", \"brave\", \"brave\", \"brethren\", \"brethren\", \"brethren\", \"brethren\", \"bronze\", \"bronze\", \"bronze\", \"bust\", \"bust\", \"bust\", \"bust\", \"calendars\", \"came\", \"came\", \"came\", \"came\", \"came\", \"canal\", \"canal\", \"canal\", \"canal\", \"caste\", \"ceremonies\", \"ceremonies\", \"chariot\", \"chariot\", \"chariot\", \"chariot\", \"chariot\", \"chariots\", \"chariots\", \"chariots\", \"chariots\", \"chariots\", \"clinton\", \"clinton\", \"clinton\", \"clinton\", \"clinton\", \"colonnade\", \"colonnade\", \"colonnade\", \"come\", \"come\", \"come\", \"come\", \"come\", \"commands\", \"commands\", \"commands\", \"communicate\", \"compare\", \"compare\", \"conceal\", \"conceal\", \"consented\", \"consented\", \"continual\", \"continual\", \"continue\", \"continue\", \"continue\", \"continue\", \"continue\", \"contrary\", \"contrary\", \"contrary\", \"contrary\", \"contrary\", \"conveyed\", \"conveyed\", \"conveyed\", \"corporal\", \"corporal\", \"corporal\", \"corporal\", \"corporal\", \"could\", \"could\", \"could\", \"could\", \"could\", \"country\", \"country\", \"country\", \"country\", \"country\", \"courtier\", \"courtier\", \"cried\", \"cried\", \"cried\", \"cried\", \"cried\", \"crowns\", \"crowns\", \"crushed\", \"crushed\", \"crushed\", \"daughter\", \"daughter\", \"daughter\", \"daughter\", \"daughter\", \"david\", \"david\", \"david\", \"david\", \"david\", \"day\", \"day\", \"day\", \"day\", \"day\", \"derived\", \"derived\", \"derived\", \"derived\", \"descended\", \"descended\", \"descended\", \"descended\", \"descended\", \"descent\", \"desires\", \"desires\", \"desires\", \"desperate\", \"desperate\", \"desperate\", \"desperate\", \"desperate\", \"dhow\", \"dhow\", \"dizzy\", \"doubts\", \"doubts\", \"drank\", \"drank\", \"drank\", \"drank\", \"drank\", \"dreadfully\", \"drooping\", \"egypt\", \"egypt\", \"egypt\", \"egypt\", \"egypt\", \"el\", \"el\", \"el\", \"el\", \"el\", \"embarking\", \"embarking\", \"endangering\", \"endured\", \"endured\", \"enlist\", \"enlist\", \"enlist\", \"enlist\", \"enlist\", \"even\", \"even\", \"even\", \"even\", \"even\", \"extensive\", \"extensive\", \"extensive\", \"eyes\", \"eyes\", \"eyes\", \"eyes\", \"eyes\", \"father\", \"father\", \"father\", \"father\", \"father\", \"fathers\", \"fathers\", \"fathers\", \"fathers\", \"fathers\", \"feels\", \"feels\", \"feet\", \"feet\", \"feet\", \"feet\", \"feet\", \"fell\", \"fell\", \"fell\", \"fell\", \"fell\", \"felt\", \"felt\", \"felt\", \"felt\", \"felt\", \"ferry\", \"ferry\", \"fewer\", \"fight\", \"fight\", \"fight\", \"fight\", \"fight\", \"fining\", \"firmly\", \"firmly\", \"first\", \"first\", \"first\", \"first\", \"first\", \"fit\", \"fit\", \"fit\", \"fit\", \"flanks\", \"fleet\", \"fleet\", \"fleet\", \"fleet\", \"fleet\", \"forgive\", \"forgive\", \"forgive\", \"forgive\", \"forgive\", \"found\", \"found\", \"found\", \"found\", \"found\", \"gave\", \"gave\", \"gave\", \"gave\", \"gave\", \"gaze\", \"gaze\", \"gaze\", \"gaze\", \"gaze\", \"geese\", \"geese\", \"geese\", \"germantown\", \"gifts\", \"gifts\", \"gifts\", \"gifts\", \"gifts\", \"girdle\", \"girdle\", \"girdle\", \"girl\", \"girl\", \"girl\", \"girl\", \"girl\", \"give\", \"give\", \"give\", \"give\", \"give\", \"go\", \"go\", \"go\", \"go\", \"go\", \"good\", \"good\", \"good\", \"good\", \"good\", \"got\", \"got\", \"got\", \"got\", \"got\", \"grades\", \"grades\", \"granted\", \"granted\", \"granted\", \"granted\", \"grapes\", \"grapes\", \"grapes\", \"grasped\", \"great\", \"great\", \"great\", \"great\", \"great\", \"grievance\", \"grinding\", \"grinding\", \"grinding\", \"grows\", \"grows\", \"grows\", \"grows\", \"grows\", \"guards\", \"guards\", \"guiding\", \"guns\", \"guns\", \"guns\", \"guns\", \"guns\", \"hand\", \"hand\", \"hand\", \"hand\", \"hand\", \"harder\", \"harder\", \"harder\", \"hardest\", \"hardest\", \"hastily\", \"hastily\", \"hastily\", \"head\", \"head\", \"head\", \"head\", \"head\", \"hear\", \"hear\", \"hear\", \"hear\", \"hear\", \"heat\", \"heat\", \"heat\", \"heat\", \"heat\", \"heated\", \"heated\", \"heated\", \"heavens\", \"heavens\", \"high\", \"high\", \"high\", \"high\", \"high\", \"horse\", \"horse\", \"horse\", \"horse\", \"horse\", \"horses\", \"horses\", \"horses\", \"horses\", \"horses\", \"hundred\", \"hundred\", \"hundred\", \"hundred\", \"hundred\", \"hyksos\", \"hyksos\", \"hyksos\", \"hymn\", \"hymn\", \"hymns\", \"hymns\", \"image\", \"image\", \"image\", \"incessant\", \"incessant\", \"inches\", \"inches\", \"inclose\", \"inspired\", \"inspired\", \"instruction\", \"instruction\", \"interrupted\", \"interrupted\", \"interrupted\", \"interrupted\", \"interrupted\", \"invoked\", \"item\", \"jackal\", \"january\", \"joined\", \"joined\", \"joined\", \"joined\", \"joined\", \"kaid\", \"kaid\", \"kaid\", \"kaid\", \"kaid\", \"kinds\", \"kinds\", \"kinds\", \"kinds\", \"king\", \"king\", \"king\", \"king\", \"king\", \"know\", \"know\", \"know\", \"know\", \"know\", \"lap\", \"lap\", \"lap\", \"lap\", \"last\", \"last\", \"last\", \"last\", \"last\", \"letter\", \"letter\", \"letter\", \"letter\", \"letter\", \"life\", \"life\", \"life\", \"life\", \"life\", \"lifted\", \"lifted\", \"lifted\", \"lifted\", \"lifted\", \"like\", \"like\", \"like\", \"like\", \"like\", \"limestone\", \"limestone\", \"limestone\", \"limestone\", \"limestone\", \"little\", \"little\", \"little\", \"little\", \"little\", \"london\", \"london\", \"london\", \"london\", \"london\", \"long\", \"long\", \"long\", \"long\", \"long\", \"lot\", \"lot\", \"lot\", \"lot\", \"lot\", \"made\", \"made\", \"made\", \"made\", \"made\", \"majority\", \"majority\", \"majority\", \"make\", \"make\", \"make\", \"make\", \"make\", \"man\", \"man\", \"man\", \"man\", \"man\", \"manes\", \"manes\", \"manes\", \"many\", \"many\", \"many\", \"many\", \"many\", \"marvellous\", \"master\", \"master\", \"master\", \"master\", \"master\", \"may\", \"may\", \"may\", \"may\", \"may\", \"meat\", \"meat\", \"meat\", \"meat\", \"meat\", \"men\", \"men\", \"men\", \"men\", \"men\", \"mena\", \"mena\", \"mena\", \"mena\", \"metal\", \"metal\", \"metal\", \"metal\", \"metal\", \"midst\", \"midst\", \"midst\", \"midst\", \"midst\", \"might\", \"might\", \"might\", \"might\", \"might\", \"minister\", \"minister\", \"minister\", \"minister\", \"mix\", \"mix\", \"mole\", \"mole\", \"mole\", \"mole\", \"morality\", \"morality\", \"mother\", \"mother\", \"mother\", \"mother\", \"mother\", \"much\", \"much\", \"much\", \"much\", \"much\", \"must\", \"must\", \"must\", \"must\", \"must\", \"nahoum\", \"nahoum\", \"nahoum\", \"nahoum\", \"nahoum\", \"natives\", \"natives\", \"natives\", \"natives\", \"natives\", \"necessity\", \"necessity\", \"necessity\", \"necessity\", \"never\", \"never\", \"never\", \"never\", \"never\", \"nevertheless\", \"nevertheless\", \"nevertheless\", \"nevertheless\", \"news\", \"news\", \"news\", \"news\", \"news\", \"night\", \"night\", \"night\", \"night\", \"night\", \"nile\", \"nile\", \"nile\", \"nile\", \"nile\", \"noon\", \"noon\", \"noon\", \"noon\", \"nothing\", \"nothing\", \"nothing\", \"nothing\", \"nothing\", \"november\", \"nursed\", \"offerings\", \"offerings\", \"offerings\", \"offerings\", \"officer\", \"officer\", \"officer\", \"officer\", \"officer\", \"officers\", \"officers\", \"officers\", \"officers\", \"officers\", \"old\", \"old\", \"old\", \"old\", \"old\", \"one\", \"one\", \"one\", \"one\", \"one\", \"order\", \"order\", \"order\", \"order\", \"order\", \"ought\", \"ought\", \"ought\", \"ought\", \"ought\", \"overhead\", \"owing\", \"owing\", \"owing\", \"owing\", \"owing\", \"paul\", \"penetrated\", \"penetrated\", \"penetrated\", \"philadelphy\", \"pits\", \"pits\", \"pits\", \"place\", \"place\", \"place\", \"place\", \"place\", \"pluck\", \"pluck\", \"pluck\", \"pluck\", \"prayers\", \"prayers\", \"prayers\", \"prayers\", \"prayers\", \"precious\", \"precious\", \"precious\", \"precious\", \"pricked\", \"priest\", \"priest\", \"priest\", \"priest\", \"priest\", \"priests\", \"priests\", \"priests\", \"priests\", \"priests\", \"princess\", \"princess\", \"princess\", \"princess\", \"princess\", \"prohibited\", \"prohibited\", \"pyramids\", \"pyramids\", \"pyramids\", \"pyramids\", \"pyramids\", \"quit\", \"quit\", \"quit\", \"qurnah\", \"ravine\", \"ravine\", \"ravine\", \"ravine\", \"readiness\", \"readiness\", \"reflect\", \"reflect\", \"rejoices\", \"rejoices\", \"release\", \"release\", \"remainder\", \"reproof\", \"request\", \"request\", \"request\", \"request\", \"request\", \"resembles\", \"resembles\", \"restless\", \"restless\", \"retired\", \"retired\", \"retiring\", \"retreated\", \"rid\", \"rid\", \"rid\", \"rid\", \"room\", \"room\", \"room\", \"room\", \"room\", \"roots\", \"roots\", \"roots\", \"roots\", \"round\", \"round\", \"round\", \"round\", \"round\", \"rupert\", \"rupert\", \"rupert\", \"rupert\", \"rupert\", \"said\", \"said\", \"said\", \"said\", \"said\", \"sanctuary\", \"sanctuary\", \"sanctuary\", \"sanctuary\", \"satisfaction\", \"satisfaction\", \"satisfaction\", \"satisfaction\", \"satisfaction\", \"say\", \"say\", \"say\", \"say\", \"say\", \"sayest\", \"scales\", \"sceptre\", \"sceptre\", \"sculpture\", \"see\", \"see\", \"see\", \"see\", \"see\", \"seriously\", \"seriously\", \"seriously\", \"seriously\", \"shall\", \"shall\", \"shall\", \"shall\", \"shall\", \"sharp\", \"sharp\", \"sharp\", \"sharp\", \"sharp\", \"side\", \"side\", \"side\", \"side\", \"side\", \"snake\", \"solar\", \"solar\", \"solar\", \"son\", \"son\", \"son\", \"son\", \"son\", \"soul\", \"soul\", \"soul\", \"soul\", \"soul\", \"spacious\", \"spacious\", \"spacious\", \"spell\", \"spell\", \"spell\", \"spell\", \"spell\", \"spring\", \"spring\", \"spring\", \"spring\", \"spring\", \"square\", \"square\", \"square\", \"square\", \"square\", \"squares\", \"squares\", \"squares\", \"st\", \"st\", \"st\", \"st\", \"st\", \"steadily\", \"steadily\", \"steadily\", \"steadily\", \"steadily\", \"steps\", \"steps\", \"steps\", \"steps\", \"steps\", \"still\", \"still\", \"still\", \"still\", \"still\", \"strasburg\", \"striking\", \"striking\", \"striking\", \"submit\", \"submit\", \"summers\", \"supports\", \"suppressed\", \"surprises\", \"surrender\", \"surrender\", \"surrender\", \"sweet\", \"sweet\", \"sweet\", \"sweet\", \"swift\", \"swift\", \"swift\", \"swift\", \"swift\", \"symbolized\", \"tablets\", \"tawny\", \"temple\", \"temple\", \"temple\", \"temple\", \"temple\", \"thee\", \"thee\", \"thee\", \"thee\", \"thee\", \"think\", \"think\", \"think\", \"think\", \"think\", \"thirteen\", \"thirteen\", \"thirteen\", \"thou\", \"thou\", \"thou\", \"thou\", \"thou\", \"though\", \"though\", \"though\", \"though\", \"though\", \"three\", \"three\", \"three\", \"three\", \"three\", \"time\", \"time\", \"time\", \"time\", \"time\", \"tongue\", \"tongue\", \"tongue\", \"tongue\", \"tongue\", \"tools\", \"towards\", \"towards\", \"towards\", \"towards\", \"towards\", \"train\", \"train\", \"train\", \"train\", \"train\", \"tramp\", \"transport\", \"transport\", \"transport\", \"transport\", \"transport\", \"tread\", \"tread\", \"tread\", \"treatment\", \"treatment\", \"treatment\", \"treatment\", \"treatment\", \"turin\", \"turin\", \"two\", \"two\", \"two\", \"two\", \"two\", \"university\", \"university\", \"upon\", \"upon\", \"upon\", \"upon\", \"upon\", \"urged\", \"urged\", \"urged\", \"us\", \"us\", \"us\", \"us\", \"us\", \"usurped\", \"veils\", \"violated\", \"watcher\", \"watcher\", \"watcher\", \"way\", \"way\", \"way\", \"way\", \"way\", \"weakened\", \"weakened\", \"well\", \"well\", \"well\", \"well\", \"well\", \"went\", \"went\", \"went\", \"went\", \"went\", \"west\", \"west\", \"west\", \"west\", \"west\", \"wide\", \"wide\", \"wide\", \"wide\", \"wide\", \"wife\", \"wife\", \"wife\", \"wife\", \"wife\", \"woman\", \"woman\", \"woman\", \"woman\", \"woman\", \"wonderfully\", \"wonderfully\", \"wonderfully\", \"wonderfully\", \"wore\", \"wore\", \"wore\", \"wore\", \"wore\", \"work\", \"work\", \"work\", \"work\", \"work\", \"would\", \"would\", \"would\", \"would\", \"would\", \"wretched\", \"wretched\", \"years\", \"years\", \"years\", \"years\", \"years\"]}, \"R\": 30, \"lambda.step\": 0.01, \"plot.opts\": {\"xlab\": \"PC1\", \"ylab\": \"PC2\"}, \"topic.order\": [3, 2, 4, 5, 1]};\n",
       "\n",
       "function LDAvis_load_lib(url, callback){\n",
       "  var s = document.createElement('script');\n",
       "  s.src = url;\n",
       "  s.async = true;\n",
       "  s.onreadystatechange = s.onload = callback;\n",
       "  s.onerror = function(){console.warn(\"failed to load library \" + url);};\n",
       "  document.getElementsByTagName(\"head\")[0].appendChild(s);\n",
       "}\n",
       "\n",
       "if(typeof(LDAvis) !== \"undefined\"){\n",
       "   // already loaded: just create the visualization\n",
       "   !function(LDAvis){\n",
       "       new LDAvis(\"#\" + \"ldavis_el255251399063255059683354238111\", ldavis_el255251399063255059683354238111_data);\n",
       "   }(LDAvis);\n",
       "}else if(typeof define === \"function\" && define.amd){\n",
       "   // require.js is available: use it to load d3/LDAvis\n",
       "   require.config({paths: {d3: \"https://d3js.org/d3.v5\"}});\n",
       "   require([\"d3\"], function(d3){\n",
       "      window.d3 = d3;\n",
       "      LDAvis_load_lib(\"https://cdn.jsdelivr.net/gh/bmabey/pyLDAvis@3.3.1/pyLDAvis/js/ldavis.v3.0.0.js\", function(){\n",
       "        new LDAvis(\"#\" + \"ldavis_el255251399063255059683354238111\", ldavis_el255251399063255059683354238111_data);\n",
       "      });\n",
       "    });\n",
       "}else{\n",
       "    // require.js not available: dynamically load d3 & LDAvis\n",
       "    LDAvis_load_lib(\"https://d3js.org/d3.v5.js\", function(){\n",
       "         LDAvis_load_lib(\"https://cdn.jsdelivr.net/gh/bmabey/pyLDAvis@3.3.1/pyLDAvis/js/ldavis.v3.0.0.js\", function(){\n",
       "                 new LDAvis(\"#\" + \"ldavis_el255251399063255059683354238111\", ldavis_el255251399063255059683354238111_data);\n",
       "            })\n",
       "         });\n",
       "}\n",
       "</script>"
      ],
      "text/plain": [
       "PreparedData(topic_coordinates=              x         y  topics  cluster       Freq\n",
       "topic                                                \n",
       "2      0.008219  0.010850       1        1  24.300283\n",
       "1     -0.024307  0.006139       2        1  21.538086\n",
       "3     -0.000478  0.003518       3        1  19.564506\n",
       "4      0.016225  0.004327       4        1  17.615468\n",
       "0      0.000341 -0.024834       5        1  16.981657, topic_info=        Term        Freq       Total Category  logprob  loglift\n",
       "1094   would  708.000000  708.000000  Default  30.0000  30.0000\n",
       "493   priest   55.000000   55.000000  Default  29.0000  29.0000\n",
       "1006    feet  148.000000  148.000000  Default  28.0000  28.0000\n",
       "1203   could  374.000000  374.000000  Default  27.0000  27.0000\n",
       "4501   ameni   46.000000   46.000000  Default  26.0000  26.0000\n",
       "...      ...         ...         ...      ...      ...      ...\n",
       "877      way   32.502106  193.771812   Topic5  -6.2574  -0.0123\n",
       "999      day   33.712769  225.119626   Topic5  -6.2208  -0.1257\n",
       "4256      go   32.485446  205.405711   Topic5  -6.2579  -0.0712\n",
       "109     life   31.697812  199.855565   Topic5  -6.2824  -0.0683\n",
       "2321    know   31.439977  220.379288   Topic5  -6.2906  -0.1742\n",
       "\n",
       "[444 rows x 6 columns], token_table=      Topic      Freq   Term\n",
       "term                        \n",
       "3819      1  0.528274  acres\n",
       "3819      3  0.176091  acres\n",
       "3819      4  0.176091  acres\n",
       "3819      5  0.176091  acres\n",
       "2347      1  0.228120  altar\n",
       "...     ...       ...    ...\n",
       "460       1  0.240612  years\n",
       "460       2  0.311904  years\n",
       "460       3  0.151496  years\n",
       "460       4  0.151496  years\n",
       "460       5  0.142585  years\n",
       "\n",
       "[1102 rows x 3 columns], R=30, lambda_step=0.01, plot_opts={'xlab': 'PC1', 'ylab': 'PC2'}, topic_order=[3, 2, 4, 5, 1])"
      ]
     },
     "execution_count": 61,
     "metadata": {},
     "output_type": "execute_result"
    }
   ],
   "source": [
    "pyLDAvis.enable_notebook()\n",
    "LDAvis_prepared = gensimvis.prepare(LDA_Model(corpus,id2word), corpus, id2word)\n",
    "LDAvis_prepared"
   ]
  },
  {
   "cell_type": "markdown",
   "id": "9b9b6d4b",
   "metadata": {},
   "source": [
    "## Word Empedding (Doc2vec)\n"
   ]
  },
  {
   "cell_type": "code",
   "execution_count": 62,
   "id": "667d7746",
   "metadata": {},
   "outputs": [
    {
     "name": "stdout",
     "output_type": "stream",
     "text": [
      "    predicted_label  similarty\n",
      "0                 C   0.846319\n",
      "1                 A   0.887055\n",
      "2                 B   0.817508\n",
      "3                 B   0.918621\n",
      "4                 D   0.879307\n",
      "..              ...        ...\n",
      "195               A   0.748253\n",
      "196               B   0.914903\n",
      "197               C   0.768767\n",
      "198               A   0.764928\n",
      "199               D   0.879343\n",
      "\n",
      "[200 rows x 2 columns]\n",
      "Accuracy: 97.5 %\n",
      "              precision    recall  f1-score   support\n",
      "\n",
      "           A       0.91      1.00      0.95        40\n",
      "           B       0.98      1.00      0.99        40\n",
      "           C       1.00      0.95      0.97        40\n",
      "           D       1.00      0.97      0.99        40\n",
      "           E       1.00      0.95      0.97        40\n",
      "\n",
      "    accuracy                           0.97       200\n",
      "   macro avg       0.98      0.97      0.98       200\n",
      "weighted avg       0.98      0.97      0.98       200\n",
      "\n"
     ]
    }
   ],
   "source": [
    "from sklearn.model_selection import train_test_split\n",
    "df = pre_processing(get_books(books))\n",
    "X = df['Text']\n",
    "y = df['label']\n",
    "X_train_Doc2Vec, X_test_Doc2Vec, y_train_Doc2Vec, y_test_Doc2Vec = train_test_split(X, y, stratify=y, test_size=0.2,random_state=42)\n",
    "\n",
    "import gensim\n",
    "def read_corpus(curpus_df, tages=None):\n",
    "    for i in range(0,len(curpus_df)):\n",
    "        tokens = gensim.utils.simple_preprocess(curpus_df.iloc[i])\n",
    "        if tages is None:\n",
    "            yield tokens\n",
    "        else:\n",
    "            # For training data, add tags\n",
    "            yield gensim.models.doc2vec.TaggedDocument(tokens, [tages.iloc[i]])\n",
    "\n",
    "def train_model_using_Doc2Vec(train_corpus):\n",
    "    doc2vec_model = gensim.models.doc2vec.Doc2Vec(vector_size=50, min_count=2, epochs=40)\n",
    "    doc2vec_model.build_vocab(train_corpus)\n",
    "    doc2vec_model.train(train_corpus, total_examples=doc2vec_model.corpus_count, epochs=doc2vec_model.epochs)\n",
    "    return doc2vec_model\n",
    "\n",
    "def get_predictions_using_Doc2Vec(doc2vec_model,test_corpus):\n",
    "    predicted_labels_with_similarty = pd.DataFrame(columns = ['predicted_label','similarty'])\n",
    "    for line in test_corpus:\n",
    "        inferred_vector = doc2vec_model.infer_vector(line)\n",
    "        # get top similar topic (topn=1)\n",
    "        sims = doc2vec_model.dv.most_similar([inferred_vector], topn=1)\n",
    "        key,sim = sims[0]\n",
    "        temp = pd.DataFrame([[key,sim]],columns = ['predicted_label','similarty'])\n",
    "        predicted_labels_with_similarty = pd.concat([predicted_labels_with_similarty,temp],ignore_index=True)\n",
    "    return predicted_labels_with_similarty\n",
    "\n",
    "train_corpus = list(read_corpus(X_train_Doc2Vec,y_train_Doc2Vec))\n",
    "test_corpus = list(read_corpus(X_test_Doc2Vec))\n",
    "\n",
    "trained_model = train_model_using_Doc2Vec(train_corpus)\n",
    "predicted_set = get_predictions_using_Doc2Vec(trained_model,test_corpus)\n",
    "print(predicted_set)\n",
    "\n",
    "from sklearn import metrics\n",
    "print(\"Accuracy:\",metrics.accuracy_score(y_test_Doc2Vec, predicted_set['predicted_label'])*100,'%')\n",
    "print(classification_report(y_test_Doc2Vec, predicted_set['predicted_label']))\n",
    "#metrics.ConfusionMatrixDisplay.from_predictions(y_test_Doc2Vec,predicted_set['predicted_label'])"
   ]
  },
  {
   "cell_type": "code",
   "execution_count": null,
   "id": "99e7bd91",
   "metadata": {},
   "outputs": [],
   "source": []
  }
 ],
 "metadata": {
  "interpreter": {
   "hash": "aee8b7b246df8f9039afb4144a1f6fd8d2ca17a180786b69acc140d282b71a49"
  },
  "kernelspec": {
   "display_name": "Python 3 (ipykernel)",
   "language": "python",
   "name": "python3"
  },
  "language_info": {
   "codemirror_mode": {
    "name": "ipython",
    "version": 3
   },
   "file_extension": ".py",
   "mimetype": "text/x-python",
   "name": "python",
   "nbconvert_exporter": "python",
   "pygments_lexer": "ipython3",
   "version": "3.9.7"
  }
 },
 "nbformat": 4,
 "nbformat_minor": 5
}
